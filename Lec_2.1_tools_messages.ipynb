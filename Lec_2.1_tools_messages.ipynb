{
  "cells": [
    {
      "cell_type": "markdown",
      "metadata": {
        "id": "view-in-github",
        "colab_type": "text"
      },
      "source": [
        "<a href=\"https://colab.research.google.com/github/MuhammadAhtishamYousaf/LangGraph/blob/main/Lec_2.1_tools_messages.ipynb\" target=\"_parent\"><img src=\"https://colab.research.google.com/assets/colab-badge.svg\" alt=\"Open In Colab\"/></a>"
      ]
    },
    {
      "cell_type": "markdown",
      "metadata": {
        "id": "KXJH6h_AU5np"
      },
      "source": [
        "# LLM Actions and Structure Messages\n",
        "\n",
        "## Review\n",
        "\n",
        "We built a simple graph with nodes, normal edges, and conditional edges.\n",
        "\n",
        "## Goals\n",
        "\n",
        "Now, let's understand the power of Actions with AI Models and before that structure our prompts."
      ]
    },
    {
      "cell_type": "markdown",
      "metadata": {
        "id": "AS-bcNseU5nu"
      },
      "source": [
        "## Messages\n",
        "\n",
        "Chat models can use [`messages`](https://python.langchain.com/v0.2/docs/concepts/#messages), which capture different roles within a conversation.\n",
        "\n",
        "LangChain supports various message types, including `HumanMessage`, `AIMessage`, `SystemMessage`, and `ToolMessage`.\n",
        "\n",
        "These represent a message from the user, from chat model, for the chat model to instruct behavior, and from a tool call.\n",
        "\n",
        "Let's create a list of messages.\n",
        "\n",
        "Each message can be supplied with a few things:\n",
        "\n",
        "* `content` - content of the message\n",
        "* `name` - optionally, a message author\n",
        "* `response_metadata` - optionally, a dict of metadata (e.g., often populated by model provider for `AIMessages`)"
      ]
    },
    {
      "cell_type": "code",
      "execution_count": 1,
      "metadata": {
        "id": "GG8OYzlUU5nv",
        "outputId": "e9f7b79f-71b4-4840-c005-4b11448957e2",
        "colab": {
          "base_uri": "https://localhost:8080/"
        }
      },
      "outputs": [
        {
          "output_type": "stream",
          "name": "stdout",
          "text": [
            "==================================\u001b[1m Ai Message \u001b[0m==================================\n",
            "Name: Model\n",
            "\n",
            "So you said you were researching ocean mammals?\n",
            "================================\u001b[1m Human Message \u001b[0m=================================\n",
            "Name: Lance\n",
            "\n",
            "Yes, that's right.\n",
            "==================================\u001b[1m Ai Message \u001b[0m==================================\n",
            "Name: Model\n",
            "\n",
            "Great, what would you like to learn about.\n",
            "================================\u001b[1m Human Message \u001b[0m=================================\n",
            "Name: Lance\n",
            "\n",
            "I want to learn about the best place to see Orcas in the US.\n"
          ]
        }
      ],
      "source": [
        "from pprint import pprint\n",
        "from langchain_core.messages import AIMessage, HumanMessage, SystemMessage\n",
        "\n",
        "messages = [AIMessage(content=f\"So you said you were researching ocean mammals?\", name=\"Model\")]\n",
        "messages.append(HumanMessage(content=f\"Yes, that's right.\",name=\"Lance\"))\n",
        "messages.append(AIMessage(content=f\"Great, what would you like to learn about.\", name=\"Model\"))\n",
        "messages.append(HumanMessage(content=f\"I want to learn about the best place to see Orcas in the US.\", name=\"Lance\"))\n",
        "\n",
        "for m in messages:\n",
        "    m.pretty_print()"
      ]
    },
    {
      "cell_type": "markdown",
      "metadata": {
        "id": "lVUDigF8U5ny"
      },
      "source": [
        "From now let's use HumanMessage to pass our Prompt to Model"
      ]
    },
    {
      "cell_type": "code",
      "execution_count": 2,
      "metadata": {
        "id": "2EPHV74NU5ny"
      },
      "outputs": [],
      "source": [
        "from google.colab import userdata\n",
        "gemini_api_key = userdata.get('GEMINI_API_KEY')\n"
      ]
    },
    {
      "cell_type": "code",
      "execution_count": 3,
      "metadata": {
        "id": "uELyien8U5nz",
        "outputId": "7a9c8750-113e-469a-dbd8-2717d77ba44e",
        "colab": {
          "base_uri": "https://localhost:8080/"
        }
      },
      "outputs": [
        {
          "output_type": "stream",
          "name": "stdout",
          "text": [
            "\u001b[?25l   \u001b[90m━━━━━━━━━━━━━━━━━━━━━━━━━━━━━━━━━━━━━━━━\u001b[0m \u001b[32m0.0/41.7 kB\u001b[0m \u001b[31m?\u001b[0m eta \u001b[36m-:--:--\u001b[0m\r\u001b[2K   \u001b[90m━━━━━━━━━━━━━━━━━━━━━━━━━━━━━━━━━━━━━━━━\u001b[0m \u001b[32m41.7/41.7 kB\u001b[0m \u001b[31m1.6 MB/s\u001b[0m eta \u001b[36m0:00:00\u001b[0m\n",
            "\u001b[?25h"
          ]
        }
      ],
      "source": [
        "%pip install --quiet -U langchain-google-genai"
      ]
    },
    {
      "cell_type": "code",
      "execution_count": 4,
      "metadata": {
        "id": "JZXrEww3U5nz"
      },
      "outputs": [],
      "source": [
        "from langchain_google_genai import ChatGoogleGenerativeAI\n",
        "\n",
        "llm: ChatGoogleGenerativeAI = ChatGoogleGenerativeAI(model=\"gemini-1.5-flash\", api_key=gemini_api_key)"
      ]
    },
    {
      "cell_type": "code",
      "execution_count": null,
      "metadata": {
        "id": "zrrh27VEU5n1",
        "outputId": "14bcc0ee-17da-4348-c071-afe60d728ed4"
      },
      "outputs": [
        {
          "name": "stdout",
          "output_type": "stream",
          "text": [
            "content='Hi there! What can I do for you today? \\n' additional_kwargs={} response_metadata={'prompt_feedback': {'block_reason': 0, 'safety_ratings': []}, 'finish_reason': 'STOP', 'safety_ratings': [{'category': 'HARM_CATEGORY_SEXUALLY_EXPLICIT', 'probability': 'NEGLIGIBLE', 'blocked': False}, {'category': 'HARM_CATEGORY_HATE_SPEECH', 'probability': 'NEGLIGIBLE', 'blocked': False}, {'category': 'HARM_CATEGORY_HARASSMENT', 'probability': 'NEGLIGIBLE', 'blocked': False}, {'category': 'HARM_CATEGORY_DANGEROUS_CONTENT', 'probability': 'NEGLIGIBLE', 'blocked': False}]} id='run-0bfdfcef-c7ee-4939-a8f4-4fb0756330b6-0' usage_metadata={'input_tokens': 2, 'output_tokens': 12, 'total_tokens': 14}\n"
          ]
        }
      ],
      "source": [
        "simple_call = llm.invoke(\"Hi\")\n",
        "print(simple_call)"
      ]
    },
    {
      "cell_type": "code",
      "execution_count": null,
      "metadata": {
        "id": "lG5VrI4PU5n2",
        "outputId": "ea492229-ac87-4e5f-d87f-7ebe71c6c232"
      },
      "outputs": [
        {
          "name": "stdout",
          "output_type": "stream",
          "text": [
            "content=\"I am a large language model, trained by Google. I don't have a name. \\n\" additional_kwargs={} response_metadata={'prompt_feedback': {'block_reason': 0, 'safety_ratings': []}, 'finish_reason': 'STOP', 'safety_ratings': [{'category': 'HARM_CATEGORY_SEXUALLY_EXPLICIT', 'probability': 'NEGLIGIBLE', 'blocked': False}, {'category': 'HARM_CATEGORY_HATE_SPEECH', 'probability': 'NEGLIGIBLE', 'blocked': False}, {'category': 'HARM_CATEGORY_HARASSMENT', 'probability': 'NEGLIGIBLE', 'blocked': False}, {'category': 'HARM_CATEGORY_DANGEROUS_CONTENT', 'probability': 'NEGLIGIBLE', 'blocked': False}]} id='run-b87dc777-45c1-417c-9cce-5d23f78d88a5-0' usage_metadata={'input_tokens': 6, 'output_tokens': 20, 'total_tokens': 26}\n"
          ]
        }
      ],
      "source": [
        "messages = [HumanMessage(content=\"What is your name?\")]\n",
        "result = llm.invoke(messages)\n",
        "print(result)"
      ]
    },
    {
      "cell_type": "code",
      "execution_count": null,
      "metadata": {
        "id": "YUvoS7BTU5n3",
        "outputId": "641ba53e-88a8-4f8d-da2e-cadf2e83d1b3"
      },
      "outputs": [
        {
          "name": "stdout",
          "output_type": "stream",
          "text": [
            "content='Hi there! My name is Bob. 😊  How can I help you today? \\n' additional_kwargs={} response_metadata={'prompt_feedback': {'block_reason': 0, 'safety_ratings': []}, 'finish_reason': 'STOP', 'safety_ratings': [{'category': 'HARM_CATEGORY_SEXUALLY_EXPLICIT', 'probability': 'NEGLIGIBLE', 'blocked': False}, {'category': 'HARM_CATEGORY_HATE_SPEECH', 'probability': 'NEGLIGIBLE', 'blocked': False}, {'category': 'HARM_CATEGORY_HARASSMENT', 'probability': 'NEGLIGIBLE', 'blocked': False}, {'category': 'HARM_CATEGORY_DANGEROUS_CONTENT', 'probability': 'NEGLIGIBLE', 'blocked': False}]} id='run-4176d413-4e4b-4b37-a5df-45e436c0a6ff-0' usage_metadata={'input_tokens': 17, 'output_tokens': 17, 'total_tokens': 34}\n"
          ]
        }
      ],
      "source": [
        "system_human_message = [\n",
        "                SystemMessage(content=\"You are a helpful assistant! Your name is Bob.\"),\n",
        "                HumanMessage(content=\"What is your name?\")\n",
        "            ]\n",
        "result = llm.invoke(system_human_message)\n",
        "print(result)\n",
        "\n",
        ""
      ]
    },
    {
      "cell_type": "code",
      "execution_count": null,
      "metadata": {
        "id": "4vHgJPLQU5n4",
        "outputId": "6368a392-9db2-4691-fc7f-86765a5ae50a"
      },
      "outputs": [
        {
          "name": "stdout",
          "output_type": "stream",
          "text": [
            "content='I am a large language model, trained by Google.' additional_kwargs={} response_metadata={'prompt_feedback': {'block_reason': 0, 'safety_ratings': []}, 'finish_reason': 'STOP', 'safety_ratings': [{'category': 'HARM_CATEGORY_SEXUALLY_EXPLICIT', 'probability': 'NEGLIGIBLE', 'blocked': False}, {'category': 'HARM_CATEGORY_HATE_SPEECH', 'probability': 'NEGLIGIBLE', 'blocked': False}, {'category': 'HARM_CATEGORY_HARASSMENT', 'probability': 'NEGLIGIBLE', 'blocked': False}, {'category': 'HARM_CATEGORY_DANGEROUS_CONTENT', 'probability': 'NEGLIGIBLE', 'blocked': False}]} id='run-679795af-80ff-4fa9-a360-b594054bf104-0' usage_metadata={'input_tokens': 6, 'output_tokens': 11, 'total_tokens': 17}\n"
          ]
        }
      ],
      "source": [
        "context_call = llm.invoke(messages)\n",
        "print(context_call)"
      ]
    },
    {
      "cell_type": "markdown",
      "metadata": {
        "id": "DYkRYD1kU5n5"
      },
      "source": [
        "## Tools\n",
        "\n",
        "Tools are useful whenever you want a model to interact with external systems.\n",
        "\n",
        "External systems (e.g., APIs) often require a particular input schema or payload, rather than natural language.\n",
        "\n",
        "When we bind an API, for example, as a tool we given the model awareness of the required input schema.\n",
        "\n",
        "The model will choose to call a tool based upon the natural language input from the user.\n",
        "\n",
        "And, it will return an output that adheres to the tool's schema.\n",
        "\n",
        "[Many LLM providers support tool calling](https://python.langchain.com/v0.1/docs/integrations/chat/) and [tool calling interface](https://blog.langchain.dev/improving-core-tool-interfaces-and-docs-in-langchain/) in LangChain is simple.\n",
        "\n",
        "You can simply pass any Python `function` into `ChatModel.bind_tools(function)`.\n",
        "\n",
        "![Screenshot 2024-08-19 at 7.46.28 PM.png](https://cdn.prod.website-files.com/65b8cd72835ceeacd4449a53/66dbab08dc1c17a7a57f9960_chain2.png)"
      ]
    },
    {
      "cell_type": "code",
      "execution_count": 5,
      "metadata": {
        "id": "k0zSnHU4Kt82"
      },
      "outputs": [],
      "source": [
        "%%capture --no-stderr\n",
        "%pip install --quiet -U langchain-google-genai langchain_core langgraph"
      ]
    },
    {
      "cell_type": "code",
      "execution_count": 6,
      "metadata": {
        "id": "yQ7JAd3hKx7H"
      },
      "outputs": [],
      "source": [
        "from google.colab import userdata\n",
        "gemini_api_key = userdata.get('GEMINI_API_KEY')\n"
      ]
    },
    {
      "cell_type": "code",
      "execution_count": 7,
      "metadata": {
        "id": "wrQIRNgeKzAX"
      },
      "outputs": [],
      "source": [
        "from langchain_google_genai import ChatGoogleGenerativeAI\n",
        "\n",
        "llm: ChatGoogleGenerativeAI = ChatGoogleGenerativeAI(model=\"gemini-1.5-flash\", api_key=gemini_api_key)"
      ]
    },
    {
      "cell_type": "markdown",
      "metadata": {
        "id": "n-MwHYPdNGDm"
      },
      "source": [
        "## Tool Calling"
      ]
    },
    {
      "cell_type": "code",
      "execution_count": null,
      "metadata": {
        "colab": {
          "base_uri": "https://localhost:8080/"
        },
        "id": "aaY-4l3pK5Kt",
        "outputId": "32c2f21f-3301-4747-96b0-796096d9e470"
      },
      "outputs": [
        {
          "name": "stdout",
          "output_type": "stream",
          "text": [
            "\n",
            "\n",
            "llm\n",
            " model='models/gemini-1.5-flash' google_api_key=SecretStr('**********') client=<google.ai.generativelanguage_v1beta.services.generative_service.client.GenerativeServiceClient object at 0x127929bb0> async_client=<google.ai.generativelanguage_v1beta.services.generative_service.async_client.GenerativeServiceAsyncClient object at 0x127931d60> default_metadata=() \n",
            "\n",
            "\n",
            "\n"
          ]
        }
      ],
      "source": [
        "print(\"\\n\\nllm\\n\", llm, \"\\n\\n\\n\")"
      ]
    },
    {
      "cell_type": "code",
      "execution_count": 20,
      "metadata": {
        "id": "V8CPSMndK1ie"
      },
      "outputs": [],
      "source": [
        "def deposit_money(name: str, bank_account_no: int,amount: int):\n",
        "    \"\"\"Deposit Money in Bank account.\n",
        "\n",
        "    Args:\n",
        "        name: first name of the person\n",
        "        bank_account_no: second bank account id\n",
        "        amount: third amount to be deposited\n",
        "    \"\"\"\n",
        "    # BUSINESS LOGIC for Bank Deposit\n",
        "    # ......\n",
        "    return f\"{amount} Deposited Successfule in {name}'s Account with account id {bank_account_no}\""
      ]
    },
    {
      "cell_type": "code",
      "source": [
        "deposit_money(\"Muhammad\", 123, 7000)"
      ],
      "metadata": {
        "id": "Hg3PCLT3p5ou",
        "outputId": "790d0682-cba8-4e7a-deb1-08003b96516a",
        "colab": {
          "base_uri": "https://localhost:8080/",
          "height": 35
        }
      },
      "execution_count": 21,
      "outputs": [
        {
          "output_type": "execute_result",
          "data": {
            "text/plain": [
              "\"7000 Deposited Successfule in Muhammad's Account with account id 123\""
            ],
            "application/vnd.google.colaboratory.intrinsic+json": {
              "type": "string"
            }
          },
          "metadata": {},
          "execution_count": 21
        }
      ]
    },
    {
      "cell_type": "code",
      "execution_count": 10,
      "metadata": {
        "id": "6A3-xLJ6L5eI"
      },
      "outputs": [],
      "source": [
        "llm_with_tools = llm.bind_tools([deposit_money])"
      ]
    },
    {
      "cell_type": "code",
      "execution_count": 11,
      "metadata": {
        "colab": {
          "base_uri": "https://localhost:8080/"
        },
        "id": "4qLqBwVnL_Lt",
        "outputId": "f9fe33ce-9c45-419d-f815-e34c8c23ed8b"
      },
      "outputs": [
        {
          "output_type": "execute_result",
          "data": {
            "text/plain": [
              "RunnableBinding(bound=ChatGoogleGenerativeAI(model='models/gemini-1.5-flash', google_api_key=SecretStr('**********'), client=<google.ai.generativelanguage_v1beta.services.generative_service.client.GenerativeServiceClient object at 0x7924fac64610>, default_metadata=()), kwargs={'tools': [{'type': 'function', 'function': {'name': 'deposit_money', 'description': 'Deposit Money in Bank account.', 'parameters': {'properties': {'name': {'description': 'first name of the person', 'type': 'string'}, 'bank_account_no': {'description': 'second bank account id', 'type': 'integer'}, 'amount': {'description': 'third amount to be deposited', 'type': 'integer'}}, 'required': ['name', 'bank_account_no', 'amount'], 'type': 'object'}}}]}, config={}, config_factories=[])"
            ]
          },
          "metadata": {},
          "execution_count": 11
        }
      ],
      "source": [
        "llm_with_tools"
      ]
    },
    {
      "cell_type": "code",
      "execution_count": 12,
      "metadata": {
        "id": "Zb1gQFn2LGYE"
      },
      "outputs": [],
      "source": [
        "from langchain_core.messages import HumanMessage"
      ]
    },
    {
      "cell_type": "code",
      "execution_count": 14,
      "metadata": {
        "colab": {
          "base_uri": "https://localhost:8080/"
        },
        "id": "QRDkyI9CMMUs",
        "outputId": "329cae24-667a-4d3c-81ba-be0d54f0b36e"
      },
      "outputs": [
        {
          "output_type": "execute_result",
          "data": {
            "text/plain": [
              "AIMessage(content=\"Okay, I've noted the instruction to deposit $200 into Ahmad's account (account number 12345445).  However, I am an AI and cannot perform real-world actions like making bank deposits.  You will need to use your bank's online system, mobile app, or visit a branch to complete this transaction.\", additional_kwargs={}, response_metadata={'prompt_feedback': {'block_reason': 0, 'safety_ratings': []}, 'finish_reason': 'STOP', 'safety_ratings': []}, id='run-ba53ee35-27dd-4993-b860-292793de2b18-0', usage_metadata={'input_tokens': 23, 'output_tokens': 77, 'total_tokens': 100, 'input_token_details': {'cache_read': 0}})"
            ]
          },
          "metadata": {},
          "execution_count": 14
        }
      ],
      "source": [
        "call = llm.invoke(\n",
        "    [HumanMessage(content=f\"Deposit $200  in Ahmad Account. His acc number is 12345445\", name=\"Muhammad Ahtisham\")])\n",
        "call\n"
      ]
    },
    {
      "cell_type": "code",
      "execution_count": 17,
      "metadata": {
        "colab": {
          "base_uri": "https://localhost:8080/"
        },
        "id": "FXfKvapxLAg_",
        "outputId": "0108cf6c-f19f-4139-8df5-c9fd4e97d453"
      },
      "outputs": [
        {
          "output_type": "execute_result",
          "data": {
            "text/plain": [
              "AIMessage(content='', additional_kwargs={'function_call': {'name': 'deposit_money', 'arguments': '{\"bank_account_no\": 12345654.0, \"amount\": 200.0, \"name\": \"Ahtisham\"}'}}, response_metadata={'prompt_feedback': {'block_reason': 0, 'safety_ratings': []}, 'finish_reason': 'STOP', 'safety_ratings': []}, id='run-2476e8d0-ab2a-4cec-8810-300e70eca590-0', tool_calls=[{'name': 'deposit_money', 'args': {'bank_account_no': 12345654.0, 'amount': 200.0, 'name': 'Ahtisham'}, 'id': '148a8292-b246-4c5a-bbe5-82707d1ea5e2', 'type': 'tool_call'}], usage_metadata={'input_tokens': 61, 'output_tokens': 13, 'total_tokens': 74, 'input_token_details': {'cache_read': 0}})"
            ]
          },
          "metadata": {},
          "execution_count": 17
        }
      ],
      "source": [
        "call = llm_with_tools.invoke(\n",
        "    [HumanMessage(content=f\"Deposit $200 in Ahtisham Account. His acc number is 12345654\", name=\"Muhammad Ahtisham\")])\n",
        "call"
      ]
    },
    {
      "cell_type": "markdown",
      "metadata": {
        "id": "uUV74OzmNRwK"
      },
      "source": [
        "### Building Graph"
      ]
    },
    {
      "cell_type": "code",
      "execution_count": 24,
      "metadata": {
        "id": "bwUSDpDRNTNu"
      },
      "outputs": [],
      "source": [
        "# We have an LLM Capable of Tool Calling: using bind_tools\n",
        "\n",
        "# Now Lets do the Orchestration Through LangGraph\n",
        "llm_with_tools = llm.bind_tools([deposit_money])\n",
        "# 0.  State\n",
        "\n",
        "from typing_extensions import TypedDict\n",
        "\n",
        "class LastMessageState(TypedDict):\n",
        "  messages: list\n",
        "\n",
        "# 1. tool calling llm ki Node\n",
        "\n",
        "def call_llm(state: LastMessageState):\n",
        "  messages = state[\"messages\"]\n",
        "  call_response = llm_with_tools.invoke(messages)\n",
        "  # messages.append(call_response)\n",
        "\n",
        "  # return {\"messages\": messages}\n",
        "  return {\"messages\": [call_response]}\n",
        "\n",
        "# 2. Graph\n",
        "\n",
        "from langgraph.graph import StateGraph, START, END\n",
        "\n",
        "maker: StateGraph = StateGraph(LastMessageState)\n",
        "\n",
        "# define nodes\n",
        "maker.add_node(\"call_llm_with_tools\", call_llm)\n",
        "\n",
        "# define edges\n",
        "maker.add_edge(START, \"call_llm_with_tools\")\n",
        "maker.add_edge(\"call_llm_with_tools\", END)\n",
        "\n",
        "# build graph\n",
        "graph = maker.compile()\n"
      ]
    },
    {
      "cell_type": "code",
      "execution_count": 25,
      "metadata": {
        "colab": {
          "base_uri": "https://localhost:8080/",
          "height": 251
        },
        "id": "0xqNUBlwPi4Y",
        "outputId": "78ea9957-5612-4579-cf36-2abba617ca16"
      },
      "outputs": [
        {
          "output_type": "display_data",
          "data": {
            "image/png": "[encoded data removed]",
            "text/plain": [
              "<IPython.core.display.Image object>"
            ]
          },
          "metadata": {}
        }
      ],
      "source": [
        "from IPython.display import display, Image\n",
        "\n",
        "display(Image(graph.get_graph().draw_mermaid_png()))"
      ]
    },
    {
      "cell_type": "code",
      "execution_count": 26,
      "metadata": {
        "colab": {
          "base_uri": "https://localhost:8080/"
        },
        "id": "jPyDSV6FPqO-",
        "outputId": "4ae9e6d8-9ea6-4a47-9fd6-d4e78edb5f81"
      },
      "outputs": [
        {
          "output_type": "execute_result",
          "data": {
            "text/plain": [
              "{'messages': [AIMessage(content='Hi there! How can I help you today?', additional_kwargs={}, response_metadata={'prompt_feedback': {'block_reason': 0, 'safety_ratings': []}, 'finish_reason': 'STOP', 'safety_ratings': []}, id='run-e27bc5a9-ff33-440e-86e2-1be61f057c4e-0', usage_metadata={'input_tokens': 38, 'output_tokens': 11, 'total_tokens': 49, 'input_token_details': {'cache_read': 0}})]}"
            ]
          },
          "metadata": {},
          "execution_count": 26
        }
      ],
      "source": [
        "graph.invoke({\"messages\": [HumanMessage(content=\"Hi\")]})"
      ]
    },
    {
      "cell_type": "code",
      "execution_count": 27,
      "metadata": {
        "colab": {
          "base_uri": "https://localhost:8080/"
        },
        "id": "d_Md3GjXP0yU",
        "outputId": "e42a83ae-f94f-44d6-f3f9-7515f13727ca"
      },
      "outputs": [
        {
          "output_type": "execute_result",
          "data": {
            "text/plain": [
              "{'messages': [AIMessage(content='', additional_kwargs={'function_call': {'name': 'deposit_money', 'arguments': '{\"bank_account_no\": 1.0, \"amount\": 7000.0, \"name\": \"Ahmad\"}'}}, response_metadata={'prompt_feedback': {'block_reason': 0, 'safety_ratings': []}, 'finish_reason': 'STOP', 'safety_ratings': []}, id='run-c660951b-743d-4d05-8e57-69d5478b947b-0', tool_calls=[{'name': 'deposit_money', 'args': {'bank_account_no': 1.0, 'amount': 7000.0, 'name': 'Ahmad'}, 'id': '24be8024-2888-421b-a9c2-88220ea534fe', 'type': 'tool_call'}], usage_metadata={'input_tokens': 57, 'output_tokens': 11, 'total_tokens': 68, 'input_token_details': {'cache_read': 0}})]}"
            ]
          },
          "metadata": {},
          "execution_count": 27
        }
      ],
      "source": [
        "graph.invoke({\"messages\": [HumanMessage(content=\"Deposiut 7000 in Ahmad Account - his bank num is 001\")]})"
      ]
    },
    {
      "cell_type": "markdown",
      "metadata": {
        "id": "wqvsGa3uU5n_"
      },
      "source": [
        "#### Current Flow\n",
        "\n",
        "- LLM: Call this Tool\n",
        "- System: Called Tool and told LLM the result.\n",
        "\n",
        "#### Issue ??: Where is my Human Message\n",
        "\n",
        "Right now in response we only have AIMessage\n",
        "\n",
        "#### Solutions:\n",
        "\n",
        "- Proposal 1: manually Add Messages in call_llm using llm\n",
        "- Proposal 2: Reducer Functions to Keep History Context"
      ]
    }
  ],
  "metadata": {
    "colab": {
      "provenance": [],
      "include_colab_link": true
    },
    "kernelspec": {
      "display_name": "Python 3",
      "name": "python3"
    },
    "language_info": {
      "codemirror_mode": {
        "name": "ipython",
        "version": 3
      },
      "file_extension": ".py",
      "mimetype": "text/x-python",
      "name": "python",
      "nbconvert_exporter": "python",
      "pygments_lexer": "ipython3",
      "version": "3.12.6"
    }
  },
  "nbformat": 4,
  "nbformat_minor": 0
}