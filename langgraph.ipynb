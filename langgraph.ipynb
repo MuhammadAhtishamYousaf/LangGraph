{
  "nbformat": 4,
  "nbformat_minor": 0,
  "metadata": {
    "colab": {
      "provenance": [],
      "cell_execution_strategy": "setup",
      "authorship_tag": "ABX9TyOObOtKUHzuK2ItL6R0YVfW",
      "include_colab_link": true
    },
    "kernelspec": {
      "name": "python3",
      "display_name": "Python 3"
    },
    "language_info": {
      "name": "python"
    }
  },
  "cells": [
    {
      "cell_type": "markdown",
      "metadata": {
        "id": "view-in-github",
        "colab_type": "text"
      },
      "source": [
        "<a href=\"https://colab.research.google.com/github/MuhammadAhtishamYousaf/LangGraph/blob/main/langgraph.ipynb\" target=\"_parent\"><img src=\"https://colab.research.google.com/assets/colab-badge.svg\" alt=\"Open In Colab\"/></a>"
      ]
    },
    {
      "cell_type": "markdown",
      "source": [
        "# Routing"
      ],
      "metadata": {
        "id": "_oiHecjGYFc2"
      }
    },
    {
      "cell_type": "code",
      "execution_count": 50,
      "metadata": {
        "id": "jxrYcFRz0cf7"
      },
      "outputs": [],
      "source": [
        "!pip install --quiet -U langchain_google_genai langchain_core langgraph"
      ]
    },
    {
      "cell_type": "code",
      "source": [
        "from google.colab import userdata\n",
        "GEMINI_API_KEY=userdata.get('GEMINI_API_KEY')"
      ],
      "metadata": {
        "id": "-mLa3LLM1G7n"
      },
      "execution_count": 51,
      "outputs": []
    },
    {
      "cell_type": "code",
      "source": [
        "from langchain_google_genai import ChatGoogleGenerativeAI as genai\n",
        "\n",
        "def multiply_values(a: int, b: int) -> int:\n",
        "    \"\"\"Multiply two values\n",
        "    Args:\n",
        "    a: first int\n",
        "    b: second int\n",
        "    Returns:\n",
        "    a * b\n",
        "    \"\"\"\n",
        "    return a * b\n"
      ],
      "metadata": {
        "id": "z_1jOPpb1Oam"
      },
      "execution_count": 52,
      "outputs": []
    },
    {
      "cell_type": "code",
      "source": [
        "llm=genai(model='gemini-1.5-flash',api_key=GEMINI_API_KEY)\n"
      ],
      "metadata": {
        "id": "MUbiXK8A1xA8"
      },
      "execution_count": 53,
      "outputs": []
    },
    {
      "cell_type": "code",
      "source": [
        "llm_with_tool_bind=llm.bind_tools([multiply_values])"
      ],
      "metadata": {
        "id": "M_MHqWqs1-IL"
      },
      "execution_count": 54,
      "outputs": []
    },
    {
      "cell_type": "code",
      "source": [
        "from IPython.display import Image, display\n",
        "from langgraph.graph import StateGraph, START,END\n",
        "from langgraph.graph import MessagesState # Make sure MessagesState is imported correctly\n",
        "from langgraph.prebuilt import ToolNode\n",
        "from langgraph.prebuilt import tools_condition\n",
        "from langgraph.graph.state import CompiledStateGraph\n",
        "\n",
        "#node function\n",
        "\n",
        "def tool_calling_with_llm(state: MessagesState): # Specify the type of the argument\n",
        "    # Access the messages using state['messages']\n",
        "    return {\"messages\":llm_with_tool_bind.invoke(state['messages'])}\n",
        "\n",
        "#build graph\n",
        "builder:StateGraph=StateGraph(MessagesState)\n",
        "builder.add_node(\"tool_calling_with_llm\",tool_calling_with_llm)\n",
        "builder.add_node(\"tools\",ToolNode([multiply_values]))\n",
        "\n",
        "#Edges\n",
        "builder.add_edge(START,\"tool_calling_with_llm\")\n",
        "builder.add_conditional_edges(\n",
        "    \"tool_calling_with_llm\",\n",
        "    #if the llm response is a tool call -> tools condition will be towards tools\n",
        "    #if the llm response is natural language, tools condition will be towards end\n",
        "    tools_condition\n",
        ")\n",
        "\n",
        "builder.add_edge(\"tools\",END)\n",
        "\n",
        "graph: CompiledStateGraph=builder.compile()\n",
        "\n",
        "# display\n",
        "display(Image(graph.get_graph().draw_mermaid_png()))"
      ],
      "metadata": {
        "colab": {
          "base_uri": "https://localhost:8080/",
          "height": 350
        },
        "id": "cZmksohQ2KNM",
        "outputId": "7ba65fb7-0f5f-466e-abc0-dc5970666e39"
      },
      "execution_count": 55,
      "outputs": [
        {
          "output_type": "display_data",
          "data": {
            "image/png": "[encoded data removed]",
            "text/plain": [
              "<IPython.core.display.Image object>"
            ]
          },
          "metadata": {}
        }
      ]
    },
    {
      "cell_type": "code",
      "source": [
        "from langchain_core.messages import HumanMessage, SystemMessage\n",
        "messages = [SystemMessage(content=\"You are a helpfull assistant.\") , HumanMessage(content=\"Multiply 5 with 5\")]\n",
        "messages = graph.invoke({\"messages\": messages})\n",
        "print(messages)\n",
        "for m in messages['messages']:\n",
        "    m.pretty_print()"
      ],
      "metadata": {
        "colab": {
          "base_uri": "https://localhost:8080/"
        },
        "id": "ibApN6iHUuDt",
        "outputId": "d005e66d-9b68-451d-bb0b-45bf6874ebf9"
      },
      "execution_count": 56,
      "outputs": [
        {
          "output_type": "stream",
          "name": "stdout",
          "text": [
            "{'messages': [SystemMessage(content='You are a helpfull assistant.', additional_kwargs={}, response_metadata={}, id='14133326-51fa-47fb-8c54-88c3f1ff346f'), HumanMessage(content='Multiply 5 with 5', additional_kwargs={}, response_metadata={}, id='f95fcd81-e02b-45e7-8b4d-367330d73533'), AIMessage(content='', additional_kwargs={'function_call': {'name': 'multiply_values', 'arguments': '{\"a\": 5.0, \"b\": 5.0}'}}, response_metadata={'prompt_feedback': {'block_reason': 0, 'safety_ratings': []}, 'finish_reason': 'STOP', 'safety_ratings': []}, id='run-93832e82-386d-42dc-b92f-7582691e8e55-0', tool_calls=[{'name': 'multiply_values', 'args': {'a': 5.0, 'b': 5.0}, 'id': '9ff5a341-c5a4-4620-bdf1-3c8dc387bd02', 'type': 'tool_call'}], usage_metadata={'input_tokens': 43, 'output_tokens': 5, 'total_tokens': 48, 'input_token_details': {'cache_read': 0}}), ToolMessage(content='25', name='multiply_values', id='46a3c19c-6c7d-4ebf-92ec-ca873b5db50b', tool_call_id='9ff5a341-c5a4-4620-bdf1-3c8dc387bd02')]}\n",
            "================================\u001b[1m System Message \u001b[0m================================\n",
            "\n",
            "You are a helpfull assistant.\n",
            "================================\u001b[1m Human Message \u001b[0m=================================\n",
            "\n",
            "Multiply 5 with 5\n",
            "==================================\u001b[1m Ai Message \u001b[0m==================================\n",
            "Tool Calls:\n",
            "  multiply_values (9ff5a341-c5a4-4620-bdf1-3c8dc387bd02)\n",
            " Call ID: 9ff5a341-c5a4-4620-bdf1-3c8dc387bd02\n",
            "  Args:\n",
            "    a: 5.0\n",
            "    b: 5.0\n",
            "=================================\u001b[1m Tool Message \u001b[0m=================================\n",
            "Name: multiply_values\n",
            "\n",
            "25\n"
          ]
        }
      ]
    },
    {
      "cell_type": "markdown",
      "source": [],
      "metadata": {
        "id": "ID2qfV_Hia9v"
      }
    },
    {
      "cell_type": "markdown",
      "source": [
        "# Memory\n"
      ],
      "metadata": {
        "id": "iWyT3jX1YLD8"
      }
    },
    {
      "cell_type": "code",
      "source": [
        "from langchain_google_genai import ChatGoogleGenerativeAI\n",
        "\n",
        "def multiply(a: int, b: int) -> int:\n",
        "    \"\"\"Multiply a and b.\n",
        "\n",
        "    Args:\n",
        "        a: first int\n",
        "        b: second int\n",
        "    \"\"\"\n",
        "    return a * b\n",
        "\n",
        "# This will be a tool\n",
        "def add(a: int, b: int) -> int:\n",
        "    \"\"\"Adds a and b.\n",
        "\n",
        "    Args:\n",
        "        a: first int\n",
        "        b: second int\n",
        "    \"\"\"\n",
        "    return a + b\n",
        "\n",
        "def divide(a: int, b: int) -> float:\n",
        "    \"\"\"Divide a and b.\n",
        "\n",
        "    Args:\n",
        "        a: first int\n",
        "        b: second int\n",
        "    \"\"\"\n",
        "    return a / b\n",
        "\n",
        "tools = [add, multiply, divide]\n",
        "llm = ChatGoogleGenerativeAI(model=\"gemini-1.5-flash\", api_key = GEMINI_API_KEY)\n",
        "llm_with_tools = llm.bind_tools(tools)"
      ],
      "metadata": {
        "id": "mjEMcgVQkrCO"
      },
      "execution_count": null,
      "outputs": []
    },
    {
      "cell_type": "code",
      "source": [
        "from langgraph.graph import MessagesState\n",
        "from langchain_core.messages import HumanMessage, SystemMessage\n",
        "\n",
        "# System message\n",
        "sys_msg = SystemMessage(content=\"You are a helpful assistant tasked with performing arithmetic on a set of inputs.\")\n",
        "\n",
        "# Node\n",
        "def assistant(state: MessagesState) -> MessagesState:\n",
        "   return {\"messages\": [llm_with_tools.invoke([sys_msg] + state[\"messages\"])]}\n",
        "\n",
        "\n",
        "# assistant({\"messages\": [HumanMessage(content=\"What is 2 + 2\")]})\n",
        "# assistant(MessagesState({\"messages\": [HumanMessage(content=\"What is 2 + 2\")]}))"
      ],
      "metadata": {
        "id": "LUXtSRXJkxRd"
      },
      "execution_count": null,
      "outputs": []
    },
    {
      "cell_type": "code",
      "source": [
        "# LANGSMITH_TRACING=True\n",
        "LANGSMITH_ENDPOINT=\"https://api.smith.langchain.com\"\n",
        "LANGSMITH_API_KEY=userdata.get('LANGSMITH_API_KEY')\n",
        "LANGSMITH_PROJECT=\"pr-new-mesenchyme-9\""
      ],
      "metadata": {
        "id": "qxU4gKLDl-5h"
      },
      "execution_count": null,
      "outputs": []
    },
    {
      "cell_type": "code",
      "source": [
        "from langgraph.graph import START,END, StateGraph\n",
        "from langgraph.prebuilt import ToolNode,tools_condition\n",
        "from IPython.display import Image, display\n",
        "from langgraph.graph.state import CompiledStateGraph\n",
        "\n",
        "# Graph\n",
        "builder=StateGraph(MessagesState)\n",
        "\n",
        "# Nodes\n",
        "builder.add_node(\"assistant\",assistant)\n",
        "builder.add_node(\"tools\",ToolNode(tools))\n",
        "\n",
        "# Define Edges: these determine how the control flow moves\n",
        "builder.add_edge(START, \"assistant\")\n",
        "builder.add_conditional_edges(\"assistant\", tools_condition)\n",
        "# if the response is a tool call,tools_condition moves to tools\n",
        "#if the response is message,tools condition moves to end\n",
        "builder.add_edge(\"tools\",\"assistant\")\n",
        "\n",
        "ReAct_graph:CompiledStateGraph=builder.compile()\n",
        "display(Image(ReAct_graph.get_graph().draw_mermaid_png()))"
      ],
      "metadata": {
        "id": "gaUiUseYnZBM",
        "colab": {
          "base_uri": "https://localhost:8080/",
          "height": 266
        },
        "outputId": "2952f474-84c6-41d0-9e1a-7d984fe9f0b1"
      },
      "execution_count": null,
      "outputs": [
        {
          "output_type": "display_data",
          "data": {
            "image/png": "[encoded data removed]",
            "text/plain": [
              "<IPython.core.display.Image object>"
            ]
          },
          "metadata": {}
        }
      ]
    },
    {
      "cell_type": "markdown",
      "source": [
        "## Invoking the Graph"
      ],
      "metadata": {
        "id": "NgwhrGy1_vc0"
      }
    },
    {
      "cell_type": "code",
      "source": [
        "messages=[HumanMessage(content='Add 3 and 4')]\n",
        "messages=ReAct_graph.invoke({\"messages\":messages})\n",
        "print(messages)\n",
        "for m in messages['messages']:\n",
        "    m.pretty_print()"
      ],
      "metadata": {
        "colab": {
          "base_uri": "https://localhost:8080/"
        },
        "id": "5ZLID-jvzbSy",
        "outputId": "7322e3f3-f7ae-4373-b3b2-ad84498ae510"
      },
      "execution_count": null,
      "outputs": [
        {
          "output_type": "stream",
          "name": "stdout",
          "text": [
            "{'messages': [HumanMessage(content='Add 3 and 4', additional_kwargs={}, response_metadata={}, id='933224c3-c947-4ff2-9f24-b45b2214fe1c'), AIMessage(content='', additional_kwargs={'function_call': {'name': 'add', 'arguments': '{\"a\": 3.0, \"b\": 4.0}'}}, response_metadata={'prompt_feedback': {'block_reason': 0, 'safety_ratings': []}, 'finish_reason': 'STOP', 'safety_ratings': []}, id='run-4ffe9195-f091-45b5-a133-9c46a3dd31b4-0', tool_calls=[{'name': 'add', 'args': {'a': 3.0, 'b': 4.0}, 'id': 'fd22b017-43d8-424e-962a-34794cd1b484', 'type': 'tool_call'}], usage_metadata={'input_tokens': 63, 'output_tokens': 3, 'total_tokens': 66, 'input_token_details': {'cache_read': 0}}), ToolMessage(content='7', name='add', id='0f33cf1b-e51e-4240-90b3-f54f4c2df13e', tool_call_id='fd22b017-43d8-424e-962a-34794cd1b484'), AIMessage(content='The sum of 3 and 4 is 7.', additional_kwargs={}, response_metadata={'prompt_feedback': {'block_reason': 0, 'safety_ratings': []}, 'finish_reason': 'STOP', 'safety_ratings': []}, id='run-d225ac9c-8f18-4e7d-883b-decccb2c314e-0', usage_metadata={'input_tokens': 68, 'output_tokens': 13, 'total_tokens': 81, 'input_token_details': {'cache_read': 0}})]}\n",
            "================================\u001b[1m Human Message \u001b[0m=================================\n",
            "\n",
            "Add 3 and 4\n",
            "==================================\u001b[1m Ai Message \u001b[0m==================================\n",
            "Tool Calls:\n",
            "  add (fd22b017-43d8-424e-962a-34794cd1b484)\n",
            " Call ID: fd22b017-43d8-424e-962a-34794cd1b484\n",
            "  Args:\n",
            "    a: 3.0\n",
            "    b: 4.0\n",
            "=================================\u001b[1m Tool Message \u001b[0m=================================\n",
            "Name: add\n",
            "\n",
            "7\n",
            "==================================\u001b[1m Ai Message \u001b[0m==================================\n",
            "\n",
            "The sum of 3 and 4 is 7.\n"
          ]
        }
      ]
    },
    {
      "cell_type": "code",
      "source": [
        "messages=[HumanMessage(content='Multiply that by 2')]\n",
        "messages=ReAct_graph.invoke({\"messages\":messages})\n",
        "print(messages)\n",
        "for m in messages['messages']:\n",
        "    m.pretty_print()"
      ],
      "metadata": {
        "colab": {
          "base_uri": "https://localhost:8080/"
        },
        "id": "fPA19_O8AYgS",
        "outputId": "9a286c8d-c471-4e86-8b27-ea65dc79fb49"
      },
      "execution_count": null,
      "outputs": [
        {
          "output_type": "stream",
          "name": "stdout",
          "text": [
            "{'messages': [HumanMessage(content='Multiply that by 2', additional_kwargs={}, response_metadata={}, id='e29a70d3-4f35-4811-a172-109e8a083b5b'), AIMessage(content='What values would you like me to multiply by 2?', additional_kwargs={}, response_metadata={'prompt_feedback': {'block_reason': 0, 'safety_ratings': []}, 'finish_reason': 'STOP', 'safety_ratings': []}, id='run-7b79a784-816b-4113-bcc5-2bf499682191-0', usage_metadata={'input_tokens': 62, 'output_tokens': 12, 'total_tokens': 74, 'input_token_details': {'cache_read': 0}})]}\n",
            "================================\u001b[1m Human Message \u001b[0m=================================\n",
            "\n",
            "Multiply that by 2\n",
            "==================================\u001b[1m Ai Message \u001b[0m==================================\n",
            "\n",
            "What values would you like me to multiply by 2?\n"
          ]
        }
      ]
    },
    {
      "cell_type": "code",
      "source": [],
      "metadata": {
        "id": "kqYizMhEAi4Y"
      },
      "execution_count": null,
      "outputs": []
    },
    {
      "cell_type": "code",
      "source": [
        "from langgraph.graph import START,END, StateGraph\n",
        "from langgraph.prebuilt import ToolNode,tools_condition\n",
        "from IPython.display import Image, display\n",
        "from langgraph.graph.state import CompiledStateGraph\n",
        "from langgraph.checkpoint.memory import MemorySaver\n",
        "\n",
        "# Graph\n",
        "builder=StateGraph(MessagesState)\n",
        "\n",
        "# Nodes\n",
        "builder.add_node(\"assistant\",assistant)\n",
        "builder.add_node(\"tools\",ToolNode(tools))\n",
        "\n",
        "# Define Edges: these determine how the control flow moves\n",
        "builder.add_edge(START, \"assistant\")\n",
        "builder.add_conditional_edges(\"assistant\", tools_condition)\n",
        "# if the response is a tool call,tools_condition moves to tools\n",
        "#if the response is message,tools condition moves to end\n",
        "builder.add_edge(\"tools\",\"assistant\")\n",
        "\n",
        "memory_saver:MemorySaver=MemorySaver()\n",
        "ReAct_graph_memory:CompiledStateGraph=builder.compile(checkpointer=memory_saver)\n",
        "\n",
        "display(Image(ReAct_graph_memory.get_graph().draw_mermaid_png()))"
      ],
      "metadata": {
        "colab": {
          "base_uri": "https://localhost:8080/",
          "height": 266
        },
        "id": "k-0pi6huSxZ6",
        "outputId": "4414a7ce-62ab-418f-98a9-6163303dd8ab"
      },
      "execution_count": null,
      "outputs": [
        {
          "output_type": "display_data",
          "data": {
            "image/png": "[encoded data removed]",
            "text/plain": [
              "<IPython.core.display.Image object>"
            ]
          },
          "metadata": {}
        }
      ]
    },
    {
      "cell_type": "code",
      "source": [
        "config = {\"configurable\":{\"thread_id\":\"1\"}}\n",
        "\n",
        "message=HumanMessage(content=\"Add 2 and 3\")\n",
        "\n",
        "response=ReAct_graph_momory.invoke({\"messages\":message},config)\n",
        "print(response)\n",
        "for i in response['messages']:\n",
        "    i.pretty_print()"
      ],
      "metadata": {
        "colab": {
          "base_uri": "https://localhost:8080/"
        },
        "id": "Q5tL0ltsO9dH",
        "outputId": "be4149b9-b346-4832-f843-06fe52b3b9b2"
      },
      "execution_count": null,
      "outputs": [
        {
          "output_type": "stream",
          "name": "stdout",
          "text": [
            "{'messages': [HumanMessage(content='Add 2 and 3', additional_kwargs={}, response_metadata={}, id='ebbc6a01-92c1-4a64-849f-cdbfd14d1b2a'), AIMessage(content='', additional_kwargs={'function_call': {'name': 'add', 'arguments': '{\"a\": 2.0, \"b\": 3.0}'}}, response_metadata={'prompt_feedback': {'block_reason': 0, 'safety_ratings': []}, 'finish_reason': 'STOP', 'safety_ratings': []}, id='run-6b71916b-c46a-415d-96c0-148c115b3360-0', tool_calls=[{'name': 'add', 'args': {'a': 2.0, 'b': 3.0}, 'id': '8fb1ca6b-6290-444c-b756-53e91c181361', 'type': 'tool_call'}], usage_metadata={'input_tokens': 63, 'output_tokens': 3, 'total_tokens': 66, 'input_token_details': {'cache_read': 0}}), ToolMessage(content='5', name='add', id='229eb4b6-af3f-44d2-a272-9e5e0a31bf1d', tool_call_id='8fb1ca6b-6290-444c-b756-53e91c181361'), AIMessage(content='The sum of 2 and 3 is 5.', additional_kwargs={}, response_metadata={'prompt_feedback': {'block_reason': 0, 'safety_ratings': []}, 'finish_reason': 'STOP', 'safety_ratings': []}, id='run-3743809b-e8ac-406a-9421-e14280075b43-0', usage_metadata={'input_tokens': 68, 'output_tokens': 13, 'total_tokens': 81, 'input_token_details': {'cache_read': 0}}), HumanMessage(content='Add 2 and 3', additional_kwargs={}, response_metadata={}, id='6fcde134-deea-4d43-9384-fc5f2cec3ffd'), AIMessage(content='', additional_kwargs={'function_call': {'name': 'add', 'arguments': '{\"a\": 2.0, \"b\": 3.0}'}}, response_metadata={'prompt_feedback': {'block_reason': 0, 'safety_ratings': []}, 'finish_reason': 'STOP', 'safety_ratings': []}, id='run-1a451967-71e4-47f9-b707-0ebc58da613e-0', tool_calls=[{'name': 'add', 'args': {'a': 2.0, 'b': 3.0}, 'id': '4e0636d0-b04f-4fa0-b0a2-4cae6f26b841', 'type': 'tool_call'}], usage_metadata={'input_tokens': 86, 'output_tokens': 3, 'total_tokens': 89, 'input_token_details': {'cache_read': 0}}), ToolMessage(content='5', name='add', id='94df912f-7c2c-4529-b4b0-f3ae3039bbc3', tool_call_id='4e0636d0-b04f-4fa0-b0a2-4cae6f26b841'), AIMessage(content='The sum of 2 and 3 is 5.', additional_kwargs={}, response_metadata={'prompt_feedback': {'block_reason': 0, 'safety_ratings': []}, 'finish_reason': 'STOP', 'safety_ratings': []}, id='run-20250000-b310-4758-a673-57e5b9b28421-0', usage_metadata={'input_tokens': 91, 'output_tokens': 13, 'total_tokens': 104, 'input_token_details': {'cache_read': 0}})]}\n",
            "================================\u001b[1m Human Message \u001b[0m=================================\n",
            "\n",
            "Add 2 and 3\n",
            "==================================\u001b[1m Ai Message \u001b[0m==================================\n",
            "Tool Calls:\n",
            "  add (8fb1ca6b-6290-444c-b756-53e91c181361)\n",
            " Call ID: 8fb1ca6b-6290-444c-b756-53e91c181361\n",
            "  Args:\n",
            "    a: 2.0\n",
            "    b: 3.0\n",
            "=================================\u001b[1m Tool Message \u001b[0m=================================\n",
            "Name: add\n",
            "\n",
            "5\n",
            "==================================\u001b[1m Ai Message \u001b[0m==================================\n",
            "\n",
            "The sum of 2 and 3 is 5.\n",
            "================================\u001b[1m Human Message \u001b[0m=================================\n",
            "\n",
            "Add 2 and 3\n",
            "==================================\u001b[1m Ai Message \u001b[0m==================================\n",
            "Tool Calls:\n",
            "  add (4e0636d0-b04f-4fa0-b0a2-4cae6f26b841)\n",
            " Call ID: 4e0636d0-b04f-4fa0-b0a2-4cae6f26b841\n",
            "  Args:\n",
            "    a: 2.0\n",
            "    b: 3.0\n",
            "=================================\u001b[1m Tool Message \u001b[0m=================================\n",
            "Name: add\n",
            "\n",
            "5\n",
            "==================================\u001b[1m Ai Message \u001b[0m==================================\n",
            "\n",
            "The sum of 2 and 3 is 5.\n"
          ]
        }
      ]
    },
    {
      "cell_type": "code",
      "source": [
        "config = {\"configurable\":{\"thread_id\":\"1\"}}\n",
        "message=HumanMessage(content=\"multiply that by 3\")\n",
        "\n",
        "response=ReAct_graph_memory.invoke({\"messages\":message},config)\n",
        "print(response)\n",
        "for i in response['messages']:\n",
        "    i.pretty_print()"
      ],
      "metadata": {
        "colab": {
          "base_uri": "https://localhost:8080/"
        },
        "id": "KznqvkRSRWtu",
        "outputId": "24a132e3-ab48-4345-a720-ac6768f9b46c"
      },
      "execution_count": null,
      "outputs": [
        {
          "output_type": "stream",
          "name": "stdout",
          "text": [
            "{'messages': [HumanMessage(content='multiply that by 3', additional_kwargs={}, response_metadata={}, id='976a6558-0633-4a37-a311-039d3ec99efa'), AIMessage(content='What values would you like me to multiply by 3?', additional_kwargs={}, response_metadata={'prompt_feedback': {'block_reason': 0, 'safety_ratings': []}, 'finish_reason': 'STOP', 'safety_ratings': []}, id='run-9d49ad5d-34b7-4b35-be39-be4636de5513-0', usage_metadata={'input_tokens': 62, 'output_tokens': 12, 'total_tokens': 74, 'input_token_details': {'cache_read': 0}})]}\n",
            "================================\u001b[1m Human Message \u001b[0m=================================\n",
            "\n",
            "multiply that by 3\n",
            "==================================\u001b[1m Ai Message \u001b[0m==================================\n",
            "\n",
            "What values would you like me to multiply by 3?\n"
          ]
        }
      ]
    },
    {
      "cell_type": "markdown",
      "source": [
        "## Deployment"
      ],
      "metadata": {
        "id": "o1eMlG97UGUh"
      }
    },
    {
      "cell_type": "markdown",
      "source": [
        "# Module 2"
      ],
      "metadata": {
        "id": "n5UPtYdWNzTW"
      }
    },
    {
      "cell_type": "code",
      "source": [
        "from pydantic import BaseModel, field_validator, ValidationError\n",
        "from typing import Literal\n",
        "class PydanticState(BaseModel):\n",
        "    name:str\n",
        "    mood:Literal[\"sad\",\"happy\"]\n",
        "    @field_validator(\"mood\")\n",
        "    def mood_must_be_sad_or_happy(cls,value):\n",
        "        if value not in [\"sad\",\"happy\"]:\n",
        "            raise ValueError(\"mood must be sad or happy\")\n",
        "        return value\n",
        "\n",
        "try:\n",
        "    state=PydanticState(name=\"Ahtisham\",mood=\"sad\")\n",
        "    print(state)\n",
        "except ValidationError as e:\n",
        "    print(e)\n"
      ],
      "metadata": {
        "colab": {
          "base_uri": "https://localhost:8080/"
        },
        "id": "5i8J4foGN70F",
        "outputId": "2c1df681-efcb-49ee-e0c1-dc6f0516a920"
      },
      "execution_count": null,
      "outputs": [
        {
          "output_type": "stream",
          "name": "stdout",
          "text": [
            "name='Ahtisham' mood='sad'\n"
          ]
        }
      ]
    },
    {
      "cell_type": "code",
      "source": [
        "from langgraph.graph import START,END, StateGraph\n",
        "from langgraph.prebuilt import ToolNode,tools_condition\n",
        "from IPython.display import Image, display\n",
        "from langgraph.graph.state import CompiledStateGraph"
      ],
      "metadata": {
        "id": "zqzMyA516nfF"
      },
      "execution_count": null,
      "outputs": []
    },
    {
      "cell_type": "code",
      "source": [
        "def new_node_1(state:PydanticState):\n",
        "    print(\"___node___1\")\n",
        "    return {\"name\":\"I am\" + state.name}\n",
        "\n",
        "def new_node_2(state:PydanticState):\n",
        "    print(\"___node___2\")\n",
        "    return {\"mood\":\"My mood is\" + state.mood}\n",
        "\n",
        "\n",
        "builder_workflow=StateGraph(PydanticState)\n",
        "builder_workflow.add_node(\"new_node_1\",new_node_1)\n",
        "builder_workflow.add_node(\"new_node_2\",new_node_2)\n",
        "\n",
        "builder_workflow.add_edge(START,\"new_node_1\")\n",
        "builder_workflow.add_edge(\"new_node_1\",\"new_node_2\")\n",
        "builder_workflow.add_edge(\"new_node_2\",END)\n",
        "\n",
        "graph:CompiledStateGraph=builder_workflow.compile()\n",
        "display(Image(graph.get_graph().draw_mermaid_png()))"
      ],
      "metadata": {
        "colab": {
          "base_uri": "https://localhost:8080/",
          "height": 350
        },
        "id": "yAVXBHrf5ytY",
        "outputId": "8ba9796e-d5e2-464e-83a4-042f477525b7"
      },
      "execution_count": null,
      "outputs": [
        {
          "output_type": "display_data",
          "data": {
            "image/png": "[encoded data removed]",
            "text/plain": [
              "<IPython.core.display.Image object>"
            ]
          },
          "metadata": {}
        }
      ]
    },
    {
      "cell_type": "code",
      "source": [
        "graph.invoke({\"name\":\"ahtisham\",\"mood\":\"sad\"})"
      ],
      "metadata": {
        "colab": {
          "base_uri": "https://localhost:8080/"
        },
        "id": "I__kz1497lnz",
        "outputId": "0b9888da-dc04-4570-9eb6-3e168e7083c2"
      },
      "execution_count": null,
      "outputs": [
        {
          "output_type": "stream",
          "name": "stdout",
          "text": [
            "___node___1\n",
            "___node___2\n"
          ]
        },
        {
          "output_type": "execute_result",
          "data": {
            "text/plain": [
              "{'name': 'I amahtisham', 'mood': 'My mood issad'}"
            ]
          },
          "metadata": {},
          "execution_count": 15
        }
      ]
    },
    {
      "cell_type": "markdown",
      "source": [
        "## Pydantic ReAct Agent"
      ],
      "metadata": {
        "id": "Vm1ubWII8a83"
      }
    },
    {
      "cell_type": "code",
      "source": [
        "from langchain_core.tools import tool\n",
        "llm=genai(model='gemini-1.5-flash',api_key=GEMINI_API_KEY)\n",
        "@tool\n",
        "def search(query: str) -> str:\n",
        "    \"\"\"Call to surf the web.\"\"\"\n",
        "    # This is a placeholder for the actual implementation\n",
        "    # Don't let the LLM know this though 😊\n",
        "    return \"The answer to your question lies within.\"\n",
        "\n",
        "tools=[search]"
      ],
      "metadata": {
        "id": "3PyBn_sSBH6X"
      },
      "execution_count": null,
      "outputs": []
    },
    {
      "cell_type": "code",
      "source": [
        "from langgraph.prebuilt import ToolNode\n",
        "tool_node=ToolNode(tools)"
      ],
      "metadata": {
        "id": "IZZ9ZLETD1ef"
      },
      "execution_count": null,
      "outputs": []
    },
    {
      "cell_type": "code",
      "source": [
        "llm_with_tool_bind=llm.bind_tools(tools)"
      ],
      "metadata": {
        "id": "TsYEuYh0EMAG"
      },
      "execution_count": null,
      "outputs": []
    },
    {
      "cell_type": "code",
      "source": [
        "import operator\n",
        "from typing import Annotated, Sequence\n",
        "from langchain_core.messages import BaseMessage\n",
        "from pydantic import BaseModel\n",
        "\n",
        "class AgenticState(BaseModel):\n",
        "    messages: Annotated[Sequence[BaseMessage],operator.add]"
      ],
      "metadata": {
        "id": "Lkk1To9ZEob9"
      },
      "execution_count": null,
      "outputs": []
    },
    {
      "cell_type": "code",
      "source": [
        "from typing import Literal\n",
        "model=llm.bind_tools(tools)\n",
        "def should_continue(state:AgenticState) -> Literal[\"end\",\"continue\"]:\n",
        "    messages=state.messages\n",
        "    last_messasge=messages[-1]\n",
        "\n",
        "    if not last_messasge.tool_calls:\n",
        "        print(\"last_message.tool_call\")\n",
        "        return \"end\"\n",
        "    else:\n",
        "        print(\"continue else case\")\n",
        "        return \"continue\"\n",
        "\n",
        "def call_model(state:AgenticState):\n",
        "    response=model.invoke(state.messages)\n",
        "    return {\"messages\":[response]}"
      ],
      "metadata": {
        "id": "vV6zMigvGCaZ"
      },
      "execution_count": null,
      "outputs": []
    },
    {
      "cell_type": "code",
      "source": [
        "from langgraph.graph import START,END, StateGraph\n",
        "from IPython.display import Image, display\n",
        "# from langgraph.graph.state import CompiledStateGraph\n",
        "#define new graph\n",
        "workflow=StateGraph(AgenticState)\n",
        "workflow.add_node(\"agent\",call_model)\n",
        "workflow.add_node(\"tool_node\",tool_node)\n",
        "\n",
        "workflow.add_edge(START,\"agent\")\n",
        "workflow.add_conditional_edges(\"agent\",should_continue,{\"continue\":\"tool_node\",\"end\":END})\n",
        "\n",
        "workflow.add_edge(\"tool_node\",\"agent\")\n",
        "\n",
        "graph:CompiledStateGraph=workflow.compile()\n",
        "display(Image(graph.get_graph().draw_mermaid_png()))\n"
      ],
      "metadata": {
        "colab": {
          "base_uri": "https://localhost:8080/",
          "height": 290
        },
        "id": "F0hEFJY8JHyw",
        "outputId": "1f7e71c5-f4ce-40b6-d87b-e71151a53344"
      },
      "execution_count": null,
      "outputs": [
        {
          "output_type": "display_data",
          "data": {
            "image/png": "[encoded data removed]",
            "text/plain": [
              "<IPython.core.display.Image object>"
            ]
          },
          "metadata": {}
        }
      ]
    },
    {
      "cell_type": "code",
      "source": [
        "from langchain_core.messages import HumanMessage\n",
        "inputs={\"messages\":[HumanMessage(content=\"what is the weather in sf?\")]}\n",
        "for chunk in graph.stream(inputs, stream_mode=\"values\"):\n",
        "    chunk[\"messages\"][-1].pretty_print()"
      ],
      "metadata": {
        "colab": {
          "base_uri": "https://localhost:8080/"
        },
        "id": "_TWg6MD7PIg2",
        "outputId": "4358de64-59f1-4dac-f1a5-ca27b5746d15"
      },
      "execution_count": null,
      "outputs": [
        {
          "output_type": "stream",
          "name": "stdout",
          "text": [
            "================================\u001b[1m Human Message \u001b[0m=================================\n",
            "\n",
            "what is the weather in sf?\n",
            "last_message.tool_call\n",
            "==================================\u001b[1m Ai Message \u001b[0m==================================\n",
            "\n",
            "I am sorry, I cannot fulfill this request. The available tools lack the desired functionality.\n"
          ]
        }
      ]
    },
    {
      "cell_type": "markdown",
      "source": [
        "# State Reducers"
      ],
      "metadata": {
        "id": "Ix_QUA3xUQfX"
      }
    },
    {
      "cell_type": "code",
      "source": [
        "from typing_extensions import TypedDict\n",
        "from IPython.display import Image, display\n",
        "from langgraph.graph import StateGraph,START,END\n",
        "from langgraph.graph.state import CompiledStateGraph\n",
        "\n",
        "class TypeDictState(TypedDict):\n",
        "    foo:int\n",
        "\n",
        "def node_1(state:TypeDictState):\n",
        "    return {\"foo\":state[\"foo\"]+1}\n",
        "\n",
        "# def node_2(state:TypeDictState):\n",
        "#     return {\"foo\":state[\"foo\"]+2}\n",
        "\n",
        "builder=StateGraph(TypeDictState)\n",
        "builder.add_node(\"node_1\",node_1)\n",
        "\n",
        "builder.add_edge(START,\"node_1\")\n",
        "builder.add_edge(\"node_1\",END)\n",
        "\n",
        "graph:CompiledStateGraph=builder.compile()\n",
        "display(Image(graph.get_graph().draw_mermaid_png()))\n",
        "\n",
        "graph.invoke({\"foo\":0,\"user\":\"me\"})"
      ],
      "metadata": {
        "colab": {
          "base_uri": "https://localhost:8080/",
          "height": 268
        },
        "id": "L-190C9iUQNn",
        "outputId": "ec076e05-c60e-42fd-b297-f64f315aec33"
      },
      "execution_count": null,
      "outputs": [
        {
          "output_type": "display_data",
          "data": {
            "image/png": "[encoded data removed]",
            "text/plain": [
              "<IPython.core.display.Image object>"
            ]
          },
          "metadata": {}
        },
        {
          "output_type": "execute_result",
          "data": {
            "text/plain": [
              "{'foo': 1}"
            ]
          },
          "metadata": {},
          "execution_count": 29
        }
      ]
    },
    {
      "cell_type": "markdown",
      "source": [
        "### branches"
      ],
      "metadata": {
        "id": "IWGhepQkXRwl"
      }
    },
    {
      "cell_type": "code",
      "source": [
        "class TypeDictState(TypedDict):\n",
        "    foo:int\n",
        "\n",
        "def node_1(state:TypeDictState):\n",
        "    return {\"foo\":state[\"foo\"]+1}\n",
        "\n",
        "def node_2(state:TypeDictState):\n",
        "    return {\"foo\":state[\"foo\"]+2}\n",
        "\n",
        "def node_3(state:TypeDictState):\n",
        "    return {\"foo\":state[\"foo\"]+3}\n",
        "\n",
        "builder=StateGraph(TypeDictState)\n",
        "builder.add_node(\"node_1\",node_1)\n",
        "builder.add_node(\"node_2\",node_2)\n",
        "builder.add_node(\"node_3\",node_3)\n",
        "\n",
        "builder.add_edge(START,\"node_1\")\n",
        "builder.add_edge(\"node_1\",\"node_2\")\n",
        "builder.add_edge(\"node_1\",\"node_3\")\n",
        "builder.add_edge(\"node_2\",END)\n",
        "builder.add_edge(\"node_3\",END)\n",
        "\n",
        "graph:CompiledStateGraph=builder.compile()\n",
        "display(Image(graph.get_graph().draw_mermaid_png()))\n",
        "\n",
        "from langgraph.errors import InvalidUpdateError\n",
        "try:\n",
        "    graph.invoke({\"foo\":0})\n",
        "except InvalidUpdateError as e:\n",
        "    print(f\"InvalidUpdateEror: {e}\")"
      ],
      "metadata": {
        "colab": {
          "base_uri": "https://localhost:8080/",
          "height": 405
        },
        "id": "mlWdwpwhXPuy",
        "outputId": "8cfa7548-deb3-445e-cb1a-c3990a4a717b"
      },
      "execution_count": null,
      "outputs": [
        {
          "output_type": "display_data",
          "data": {
            "image/png": "[encoded data removed]",
            "text/plain": [
              "<IPython.core.display.Image object>"
            ]
          },
          "metadata": {}
        },
        {
          "output_type": "stream",
          "name": "stdout",
          "text": [
            "InvalidUpdateEror: At key 'foo': Can receive only one value per step. Use an Annotated key to handle multiple values.\n",
            "For troubleshooting, visit: https://python.langchain.com/docs/troubleshooting/errors/INVALID_CONCURRENT_GRAPH_UPDATE\n"
          ]
        }
      ]
    },
    {
      "cell_type": "code",
      "source": [
        "from operator import add\n",
        "from typing import Annotated\n",
        "\n",
        "class StateAnotated(TypedDict):\n",
        "    foo: Annotated[list[int],add]\n",
        "\n",
        "def node_1(state:StateAnotated):\n",
        "    print(\"___node___1\")\n",
        "    return {\"foo\":[state[\"foo\"][0]+1]}\n",
        "\n",
        "builder=StateGraph(StateAnotated)\n",
        "\n",
        "builder.add_node(\"node_1\",node_1)\n",
        "\n",
        "builder.add_edge(START,'node_1')\n",
        "builder.add_edge(\"node_1\",END)\n",
        "\n",
        "graph=builder.compile()\n",
        "display(Image(graph.get_graph().draw_mermaid_png()))\n",
        "\n",
        "graph.invoke({\"foo\":[2]})"
      ],
      "metadata": {
        "colab": {
          "base_uri": "https://localhost:8080/",
          "height": 286
        },
        "id": "yQxaT9QrY-03",
        "outputId": "fbc57555-98fb-4e65-a068-5655017f952c"
      },
      "execution_count": null,
      "outputs": [
        {
          "output_type": "display_data",
          "data": {
            "image/png": "[encoded data removed]",
            "text/plain": [
              "<IPython.core.display.Image object>"
            ]
          },
          "metadata": {}
        },
        {
          "output_type": "stream",
          "name": "stdout",
          "text": [
            "___node___1\n"
          ]
        },
        {
          "output_type": "execute_result",
          "data": {
            "text/plain": [
              "{'foo': [2, 3]}"
            ]
          },
          "metadata": {},
          "execution_count": 37
        }
      ]
    },
    {
      "cell_type": "code",
      "source": [
        "from logging import exception\n",
        "class StateAnotated(TypedDict):\n",
        "    foo: Annotated[list[int],add]\n",
        "\n",
        "def node_1(state:StateAnotated):\n",
        "    print(\"Initial state\",state['foo'])\n",
        "    print(\"___node___1\")\n",
        "    response={\"foo\":[state[\"foo\"][-1]+1]}\n",
        "    print(\"Node1 response\",response)\n",
        "    return response\n",
        "\n",
        "def node_2(state:StateAnotated):\n",
        "    print(\"___node___2\")\n",
        "    response={\"foo\":[state[\"foo\"][-1]+1]}\n",
        "    print(\"Node2 response\",response)\n",
        "    return response\n",
        "\n",
        "def node_3(state:StateAnotated):\n",
        "    print(\"___node___3\")\n",
        "    response={\"foo\":[state[\"foo\"][-1]+1]}\n",
        "    print(\"Node3 response\",response)\n",
        "    return response\n",
        "\n",
        "builder=StateGraph(StateAnotated)\n",
        "\n",
        "builder.add_node(\"node_1\",node_1)\n",
        "builder.add_node(\"node_2\",node_2)\n",
        "builder.add_node(\"node_3\",node_3)\n",
        "\n",
        "builder.add_edge(START,'node_1')\n",
        "builder.add_edge(\"node_1\",'node_2')\n",
        "builder.add_edge(\"node_1\",'node_3')\n",
        "builder.add_edge(\"node_2\",END)\n",
        "builder.add_edge(\"node_3\",END)\n",
        "\n",
        "graph=builder.compile()\n",
        "display(Image(graph.get_graph().draw_mermaid_png()))\n",
        "\n",
        "# graph.invoke({\"foo\":[2]})\n",
        "try:\n",
        "    graph.invoke({\"foo\":None})\n",
        "except Exception as e:\n",
        "    print(e)"
      ],
      "metadata": {
        "colab": {
          "base_uri": "https://localhost:8080/",
          "height": 367
        },
        "id": "27J79b1-cKv1",
        "outputId": "3ac72c26-1834-4958-8de6-53d07bca250a"
      },
      "execution_count": null,
      "outputs": [
        {
          "output_type": "display_data",
          "data": {
            "image/png": "[encoded data removed]",
            "text/plain": [
              "<IPython.core.display.Image object>"
            ]
          },
          "metadata": {}
        },
        {
          "output_type": "stream",
          "name": "stdout",
          "text": [
            "can only concatenate list (not \"NoneType\") to list\n"
          ]
        }
      ]
    },
    {
      "cell_type": "markdown",
      "source": [
        "### Custom Reducers"
      ],
      "metadata": {
        "id": "t-s8mmu0hDRR"
      }
    },
    {
      "cell_type": "code",
      "source": [
        "def reduce_list(left: list | None, right: list | None) -> list:\n",
        "    \"\"\"Safely combine two lists, handling cases where either or both inputs might be None.\n",
        "\n",
        "    Args:\n",
        "        left (list | None): The first list to combine, or None.\n",
        "        right (list | None): The second list to combine, or None.\n",
        "\n",
        "    Returns:\n",
        "        list: A new list containing all elements from both input lists.\n",
        "               If an input is None, it's treated as an empty list.\n",
        "    \"\"\"\n",
        "    if left is None:\n",
        "        left = []\n",
        "    if not right:\n",
        "        right = []\n",
        "    return left + right\n",
        "\n",
        "# response=reduce_list([1,2],[3,4])\n",
        "# response=reduce_list([1,2],[3,None])\n",
        "# response=reduce_list([1,2],[3,''])\n",
        "# response=reduce_list([1,\"\"],[3,None])\n",
        "response=reduce_list([1,],[3,None])\n",
        "print(response)\n",
        "class DefaultState(TypedDict):\n",
        "    foo: Annotated[list[int],add]\n",
        "\n",
        "class CustomReducerState(TypedDict):\n",
        "    foo: Annotated[list[int],reduce_list]"
      ],
      "metadata": {
        "id": "cNO3EuBuhGSv",
        "colab": {
          "base_uri": "https://localhost:8080/"
        },
        "outputId": "e2366156-25dd-4b5e-ab81-b56c0cc4f153"
      },
      "execution_count": 58,
      "outputs": [
        {
          "output_type": "stream",
          "name": "stdout",
          "text": [
            "[1, 3, None]\n"
          ]
        }
      ]
    },
    {
      "cell_type": "code",
      "source": [
        "def node_1(state:DefaultState):\n",
        "    print(\"___node___1\")\n",
        "    return {\"foo\":[state['foo']]}\n",
        "\n",
        "builder=StateGraph(DefaultState)\n",
        "\n",
        "builder.add_node(\"node_1\",node_1)\n",
        "\n",
        "builder.add_edge(START,'node_1')\n",
        "builder.add_edge(\"node_1\",END)\n",
        "\n",
        "graph=builder.compile()\n",
        "display(Image(graph.get_graph().draw_mermaid_png()))\n",
        "\n",
        "graph.invoke({\"foo\":None})"
      ],
      "metadata": {
        "colab": {
          "base_uri": "https://localhost:8080/",
          "height": 555
        },
        "id": "2j6Wv6GFoYE3",
        "outputId": "80c0e02e-f5f7-4788-b7d6-4254109970ab"
      },
      "execution_count": 59,
      "outputs": [
        {
          "output_type": "display_data",
          "data": {
            "image/png": "[encoded data removed]",
            "text/plain": [
              "<IPython.core.display.Image object>"
            ]
          },
          "metadata": {}
        },
        {
          "output_type": "error",
          "ename": "TypeError",
          "evalue": "can only concatenate list (not \"NoneType\") to list",
          "traceback": [
            "\u001b[0;31m---------------------------------------------------------------------------\u001b[0m",
            "\u001b[0;31mTypeError\u001b[0m                                 Traceback (most recent call last)",
            "\u001b[0;32m<ipython-input-59-a00863c24897>\u001b[0m in \u001b[0;36m<cell line: 0>\u001b[0;34m()\u001b[0m\n\u001b[1;32m     13\u001b[0m \u001b[0mdisplay\u001b[0m\u001b[0;34m(\u001b[0m\u001b[0mImage\u001b[0m\u001b[0;34m(\u001b[0m\u001b[0mgraph\u001b[0m\u001b[0;34m.\u001b[0m\u001b[0mget_graph\u001b[0m\u001b[0;34m(\u001b[0m\u001b[0;34m)\u001b[0m\u001b[0;34m.\u001b[0m\u001b[0mdraw_mermaid_png\u001b[0m\u001b[0;34m(\u001b[0m\u001b[0;34m)\u001b[0m\u001b[0;34m)\u001b[0m\u001b[0;34m)\u001b[0m\u001b[0;34m\u001b[0m\u001b[0;34m\u001b[0m\u001b[0m\n\u001b[1;32m     14\u001b[0m \u001b[0;34m\u001b[0m\u001b[0m\n\u001b[0;32m---> 15\u001b[0;31m \u001b[0mgraph\u001b[0m\u001b[0;34m.\u001b[0m\u001b[0minvoke\u001b[0m\u001b[0;34m(\u001b[0m\u001b[0;34m{\u001b[0m\u001b[0;34m\"foo\"\u001b[0m\u001b[0;34m:\u001b[0m\u001b[0;32mNone\u001b[0m\u001b[0;34m}\u001b[0m\u001b[0;34m)\u001b[0m\u001b[0;34m\u001b[0m\u001b[0;34m\u001b[0m\u001b[0m\n\u001b[0m",
            "\u001b[0;32m/usr/local/lib/python3.11/dist-packages/langgraph/pregel/__init__.py\u001b[0m in \u001b[0;36minvoke\u001b[0;34m(self, input, config, stream_mode, output_keys, interrupt_before, interrupt_after, debug, **kwargs)\u001b[0m\n\u001b[1;32m   2140\u001b[0m         \u001b[0;32melse\u001b[0m\u001b[0;34m:\u001b[0m\u001b[0;34m\u001b[0m\u001b[0;34m\u001b[0m\u001b[0m\n\u001b[1;32m   2141\u001b[0m             \u001b[0mchunks\u001b[0m \u001b[0;34m=\u001b[0m \u001b[0;34m[\u001b[0m\u001b[0;34m]\u001b[0m\u001b[0;34m\u001b[0m\u001b[0;34m\u001b[0m\u001b[0m\n\u001b[0;32m-> 2142\u001b[0;31m         for chunk in self.stream(\n\u001b[0m\u001b[1;32m   2143\u001b[0m             \u001b[0minput\u001b[0m\u001b[0;34m,\u001b[0m\u001b[0;34m\u001b[0m\u001b[0;34m\u001b[0m\u001b[0m\n\u001b[1;32m   2144\u001b[0m             \u001b[0mconfig\u001b[0m\u001b[0;34m,\u001b[0m\u001b[0;34m\u001b[0m\u001b[0;34m\u001b[0m\u001b[0m\n",
            "\u001b[0;32m/usr/local/lib/python3.11/dist-packages/langgraph/pregel/__init__.py\u001b[0m in \u001b[0;36mstream\u001b[0;34m(self, input, config, stream_mode, output_keys, interrupt_before, interrupt_after, debug, subgraphs)\u001b[0m\n\u001b[1;32m   1794\u001b[0m                 \u001b[0;31m# channels are guaranteed to be immutable for the duration of the step,\u001b[0m\u001b[0;34m\u001b[0m\u001b[0;34m\u001b[0m\u001b[0m\n\u001b[1;32m   1795\u001b[0m                 \u001b[0;31m# with channel updates applied only at the transition between steps.\u001b[0m\u001b[0;34m\u001b[0m\u001b[0;34m\u001b[0m\u001b[0m\n\u001b[0;32m-> 1796\u001b[0;31m                 \u001b[0;32mwhile\u001b[0m \u001b[0mloop\u001b[0m\u001b[0;34m.\u001b[0m\u001b[0mtick\u001b[0m\u001b[0;34m(\u001b[0m\u001b[0minput_keys\u001b[0m\u001b[0;34m=\u001b[0m\u001b[0mself\u001b[0m\u001b[0;34m.\u001b[0m\u001b[0minput_channels\u001b[0m\u001b[0;34m)\u001b[0m\u001b[0;34m:\u001b[0m\u001b[0;34m\u001b[0m\u001b[0;34m\u001b[0m\u001b[0m\n\u001b[0m\u001b[1;32m   1797\u001b[0m                     for _ in runner.tick(\n\u001b[1;32m   1798\u001b[0m                         \u001b[0mloop\u001b[0m\u001b[0;34m.\u001b[0m\u001b[0mtasks\u001b[0m\u001b[0;34m.\u001b[0m\u001b[0mvalues\u001b[0m\u001b[0;34m(\u001b[0m\u001b[0;34m)\u001b[0m\u001b[0;34m,\u001b[0m\u001b[0;34m\u001b[0m\u001b[0;34m\u001b[0m\u001b[0m\n",
            "\u001b[0;32m/usr/local/lib/python3.11/dist-packages/langgraph/pregel/loop.py\u001b[0m in \u001b[0;36mtick\u001b[0;34m(self, input_keys)\u001b[0m\n\u001b[1;32m    417\u001b[0m                 )\n\u001b[1;32m    418\u001b[0m             \u001b[0;31m# all tasks have finished\u001b[0m\u001b[0;34m\u001b[0m\u001b[0;34m\u001b[0m\u001b[0m\n\u001b[0;32m--> 419\u001b[0;31m             mv_writes = apply_writes(\n\u001b[0m\u001b[1;32m    420\u001b[0m                 \u001b[0mself\u001b[0m\u001b[0;34m.\u001b[0m\u001b[0mcheckpoint\u001b[0m\u001b[0;34m,\u001b[0m\u001b[0;34m\u001b[0m\u001b[0;34m\u001b[0m\u001b[0m\n\u001b[1;32m    421\u001b[0m                 \u001b[0mself\u001b[0m\u001b[0;34m.\u001b[0m\u001b[0mchannels\u001b[0m\u001b[0;34m,\u001b[0m\u001b[0;34m\u001b[0m\u001b[0;34m\u001b[0m\u001b[0m\n",
            "\u001b[0;32m/usr/local/lib/python3.11/dist-packages/langgraph/pregel/algo.py\u001b[0m in \u001b[0;36mapply_writes\u001b[0;34m(checkpoint, channels, tasks, get_next_version)\u001b[0m\n\u001b[1;32m    303\u001b[0m     \u001b[0;32mfor\u001b[0m \u001b[0mchan\u001b[0m\u001b[0;34m,\u001b[0m \u001b[0mvals\u001b[0m \u001b[0;32min\u001b[0m \u001b[0mpending_writes_by_channel\u001b[0m\u001b[0;34m.\u001b[0m\u001b[0mitems\u001b[0m\u001b[0;34m(\u001b[0m\u001b[0;34m)\u001b[0m\u001b[0;34m:\u001b[0m\u001b[0;34m\u001b[0m\u001b[0;34m\u001b[0m\u001b[0m\n\u001b[1;32m    304\u001b[0m         \u001b[0;32mif\u001b[0m \u001b[0mchan\u001b[0m \u001b[0;32min\u001b[0m \u001b[0mchannels\u001b[0m\u001b[0;34m:\u001b[0m\u001b[0;34m\u001b[0m\u001b[0;34m\u001b[0m\u001b[0m\n\u001b[0;32m--> 305\u001b[0;31m             \u001b[0;32mif\u001b[0m \u001b[0mchannels\u001b[0m\u001b[0;34m[\u001b[0m\u001b[0mchan\u001b[0m\u001b[0;34m]\u001b[0m\u001b[0;34m.\u001b[0m\u001b[0mupdate\u001b[0m\u001b[0;34m(\u001b[0m\u001b[0mvals\u001b[0m\u001b[0;34m)\u001b[0m \u001b[0;32mand\u001b[0m \u001b[0mget_next_version\u001b[0m \u001b[0;32mis\u001b[0m \u001b[0;32mnot\u001b[0m \u001b[0;32mNone\u001b[0m\u001b[0;34m:\u001b[0m\u001b[0;34m\u001b[0m\u001b[0;34m\u001b[0m\u001b[0m\n\u001b[0m\u001b[1;32m    306\u001b[0m                 checkpoint[\"channel_versions\"][chan] = get_next_version(\n\u001b[1;32m    307\u001b[0m                     \u001b[0mmax_version\u001b[0m\u001b[0;34m,\u001b[0m\u001b[0;34m\u001b[0m\u001b[0;34m\u001b[0m\u001b[0m\n",
            "\u001b[0;32m/usr/local/lib/python3.11/dist-packages/langgraph/channels/binop.py\u001b[0m in \u001b[0;36mupdate\u001b[0;34m(self, values)\u001b[0m\n\u001b[1;32m     86\u001b[0m             \u001b[0mvalues\u001b[0m \u001b[0;34m=\u001b[0m \u001b[0mvalues\u001b[0m\u001b[0;34m[\u001b[0m\u001b[0;36m1\u001b[0m\u001b[0;34m:\u001b[0m\u001b[0;34m]\u001b[0m\u001b[0;34m\u001b[0m\u001b[0;34m\u001b[0m\u001b[0m\n\u001b[1;32m     87\u001b[0m         \u001b[0;32mfor\u001b[0m \u001b[0mvalue\u001b[0m \u001b[0;32min\u001b[0m \u001b[0mvalues\u001b[0m\u001b[0;34m:\u001b[0m\u001b[0;34m\u001b[0m\u001b[0;34m\u001b[0m\u001b[0m\n\u001b[0;32m---> 88\u001b[0;31m             \u001b[0mself\u001b[0m\u001b[0;34m.\u001b[0m\u001b[0mvalue\u001b[0m \u001b[0;34m=\u001b[0m \u001b[0mself\u001b[0m\u001b[0;34m.\u001b[0m\u001b[0moperator\u001b[0m\u001b[0;34m(\u001b[0m\u001b[0mself\u001b[0m\u001b[0;34m.\u001b[0m\u001b[0mvalue\u001b[0m\u001b[0;34m,\u001b[0m \u001b[0mvalue\u001b[0m\u001b[0;34m)\u001b[0m\u001b[0;34m\u001b[0m\u001b[0;34m\u001b[0m\u001b[0m\n\u001b[0m\u001b[1;32m     89\u001b[0m         \u001b[0;32mreturn\u001b[0m \u001b[0;32mTrue\u001b[0m\u001b[0;34m\u001b[0m\u001b[0;34m\u001b[0m\u001b[0m\n\u001b[1;32m     90\u001b[0m \u001b[0;34m\u001b[0m\u001b[0m\n",
            "\u001b[0;31mTypeError\u001b[0m: can only concatenate list (not \"NoneType\") to list"
          ]
        }
      ]
    },
    {
      "cell_type": "code",
      "source": [
        "def node_1(state:CustomReducerState):\n",
        "    print(\"___node___1\")\n",
        "    return {\"foo\":[state['foo']]}\n",
        "\n",
        "builder=StateGraph(CustomReducerState)\n",
        "\n",
        "builder.add_node(\"node_1\",node_1)\n",
        "\n",
        "builder.add_edge(START,'node_1')\n",
        "builder.add_edge(\"node_1\",END)\n",
        "\n",
        "graph=builder.compile()\n",
        "display(Image(graph.get_graph().draw_mermaid_png()))\n",
        "\n",
        "graph.invoke({\"foo\":None})"
      ],
      "metadata": {
        "colab": {
          "base_uri": "https://localhost:8080/",
          "height": 286
        },
        "id": "eZ-IAF3ap6_q",
        "outputId": "17b5a426-0636-4613-bd0b-9015d85de63f"
      },
      "execution_count": 60,
      "outputs": [
        {
          "output_type": "display_data",
          "data": {
            "image/png": "[encoded data removed]",
            "text/plain": [
              "<IPython.core.display.Image object>"
            ]
          },
          "metadata": {}
        },
        {
          "output_type": "stream",
          "name": "stdout",
          "text": [
            "___node___1\n"
          ]
        },
        {
          "output_type": "execute_result",
          "data": {
            "text/plain": [
              "{'foo': [[]]}"
            ]
          },
          "metadata": {},
          "execution_count": 60
        }
      ]
    },
    {
      "cell_type": "markdown",
      "source": [
        "### Langgraph Reducer"
      ],
      "metadata": {
        "id": "63hOT5cCxyKV"
      }
    },
    {
      "cell_type": "code",
      "source": [
        "from typing import Annotated\n",
        "from langgraph.graph import MessagesState, add_messages\n",
        "from langchain_core.messages import AnyMessage\n",
        "\n",
        "# with add_messages reducer\n",
        "class CustomMessageState(TypedDict):\n",
        "    messages: Annotated[list[AnyMessage],add_messages]\n",
        "    added_key1:str\n",
        "    added_key2:str\n",
        "\n",
        "# with built-in MessagesState\n",
        "class BuiltInMessageState(MessagesState):\n",
        "    added_key1:str\n",
        "    added_key2:str"
      ],
      "metadata": {
        "id": "ZRwHIH2rrPeY"
      },
      "execution_count": 61,
      "outputs": []
    },
    {
      "cell_type": "code",
      "source": [
        "from langchain_core.messages import HumanMessage, AIMessage\n",
        "\n",
        "# initial state\n",
        "initial_messages=[AIMessage(content='Hello! How can i assist you?',name=\"Assistant\"),\n",
        "                  HumanMessage(content=\"What is AI Agent?\")]\n",
        "\n",
        "# New message to add\n",
        "new_message = HumanMessage(content=\"I'm looking for information on whales, specifically\", name=\"Lance\", id=\"2\")\n",
        "\n",
        "add_messages(initial_messages,new_message)"
      ],
      "metadata": {
        "colab": {
          "base_uri": "https://localhost:8080/"
        },
        "id": "ZhITWm1IzIYp",
        "outputId": "c2c4fd29-9c55-4d63-879e-ca1f371a0fa3"
      },
      "execution_count": 62,
      "outputs": [
        {
          "output_type": "execute_result",
          "data": {
            "text/plain": [
              "[AIMessage(content='Hello! How can i assist you?', additional_kwargs={}, response_metadata={}, name='Assistant', id='562197cd-e9a9-46ef-adc8-c78f5c047475'),\n",
              " HumanMessage(content='What is AI Agent?', additional_kwargs={}, response_metadata={}, id='e7d012ad-dd6d-4bb7-90cb-00393d58319b'),\n",
              " HumanMessage(content=\"I'm looking for information on whales, specifically\", additional_kwargs={}, response_metadata={}, name='Lance', id='2')]"
            ]
          },
          "metadata": {},
          "execution_count": 62
        }
      ]
    },
    {
      "cell_type": "code",
      "source": [
        "# Initial state\n",
        "initial_messages = [AIMessage(content=\"Hello! How can I assist you?\", name=\"Model\", id=\"1\"),\n",
        "                    HumanMessage(content=\"I'm looking for information on marine biology.\", name=\"Lance\", id=\"2\")\n",
        "                   ]\n",
        "\n",
        "# New message to add\n",
        "new_message = HumanMessage(content=\"I'm looking for information on whales, specifically\", name=\"Lance\", id=\"2\")\n",
        "\n",
        "# Test\n",
        "add_messages(initial_messages , new_message)"
      ],
      "metadata": {
        "colab": {
          "base_uri": "https://localhost:8080/"
        },
        "id": "t3p6ILrI0idB",
        "outputId": "becb3ba1-d764-4646-92df-601bebd510eb"
      },
      "execution_count": 63,
      "outputs": [
        {
          "output_type": "execute_result",
          "data": {
            "text/plain": [
              "[AIMessage(content='Hello! How can I assist you?', additional_kwargs={}, response_metadata={}, name='Model', id='1'),\n",
              " HumanMessage(content=\"I'm looking for information on whales, specifically\", additional_kwargs={}, response_metadata={}, name='Lance', id='2')]"
            ]
          },
          "metadata": {},
          "execution_count": 63
        }
      ]
    },
    {
      "cell_type": "code",
      "source": [
        "from langchain_core.messages import RemoveMessage\n",
        "\n",
        "# Message list\n",
        "messages = [AIMessage(\"Hi.\", name=\"Bot\", id=\"1\")]\n",
        "messages.append(HumanMessage(\"Hi.\", name=\"Lance\", id=\"2\"))\n",
        "messages.append(AIMessage(\"So you said you were researching ocean mammals?\", name=\"Bot\", id=\"3\"))\n",
        "messages.append(HumanMessage(\"Yes, I know about whales. But what others should I learn about?\", name=\"Lance\", id=\"4\"))\n",
        "\n",
        "# Isolate messages to delete\n",
        "delete_messages = [RemoveMessage(id=m.id) for m in messages[:-2]]\n",
        "print(delete_messages)"
      ],
      "metadata": {
        "colab": {
          "base_uri": "https://localhost:8080/"
        },
        "id": "28ksZLcY3qnE",
        "outputId": "3147bbd9-8c03-41c6-8d6d-6e29b2fba0ef"
      },
      "execution_count": 64,
      "outputs": [
        {
          "output_type": "stream",
          "name": "stdout",
          "text": [
            "[RemoveMessage(content='', additional_kwargs={}, response_metadata={}, id='1'), RemoveMessage(content='', additional_kwargs={}, response_metadata={}, id='2')]\n"
          ]
        }
      ]
    },
    {
      "cell_type": "code",
      "source": [
        "add_messages(messages,delete_messages)"
      ],
      "metadata": {
        "colab": {
          "base_uri": "https://localhost:8080/"
        },
        "id": "48SpoyZK5YmW",
        "outputId": "9b61885d-54bb-4831-d241-620d6a30e0ec"
      },
      "execution_count": 65,
      "outputs": [
        {
          "output_type": "execute_result",
          "data": {
            "text/plain": [
              "[AIMessage(content='So you said you were researching ocean mammals?', additional_kwargs={}, response_metadata={}, name='Bot', id='3'),\n",
              " HumanMessage(content='Yes, I know about whales. But what others should I learn about?', additional_kwargs={}, response_metadata={}, name='Lance', id='4')]"
            ]
          },
          "metadata": {},
          "execution_count": 65
        }
      ]
    },
    {
      "cell_type": "code",
      "source": [],
      "metadata": {
        "id": "m_TwMhQQ5buM"
      },
      "execution_count": null,
      "outputs": []
    },
    {
      "cell_type": "markdown",
      "source": [
        "# Multiple Schemas"
      ],
      "metadata": {
        "id": "doqAvCdbj6YH"
      }
    },
    {
      "cell_type": "code",
      "source": [
        "from typing_extensions import TypedDict\n",
        "from IPython.display import Image, display\n",
        "from langgraph.graph import StateGraph,START,END\n",
        "from langgraph.graph.state import CompiledStateGraph\n",
        "\n",
        "class OverAllState(TypedDict):\n",
        "    foo:int\n",
        "    buz:int\n",
        "\n",
        "def node_1(state:OverAllState) -> OverAllState:\n",
        "    print(f\"Initial state foo: {state['foo']}\")\n",
        "    print(f\"Initial state buz: {state['buz']}\")\n",
        "    print(\"___node___1\")\n",
        "    response={\"buz\":state[\"foo\"]+1}\n",
        "\n",
        "    print(f\"Node2 response buz: {response['buz']}\")\n",
        "    return response\n",
        "\n",
        "def node_2(state:OverAllState) -> OverAllState:\n",
        "    print(f\"Initial state foo: {state['foo']}\")\n",
        "    print(f\"Initial state buz: {state['buz']}\")\n",
        "    print(\"___node___2\")\n",
        "    response={\"foo\":state[\"buz\"]+1}\n",
        "    print(f\"Node2 response foo: {response['foo']}\")\n",
        "\n",
        "    return response\n",
        "\n",
        "builder:StateGraph=StateGraph(OverAllState)\n",
        "\n",
        "builder.add_node(\"node_1\",node_1)\n",
        "builder.add_node(\"node_2\",node_2)\n",
        "\n",
        "builder.add_edge(START,\"node_1\")\n",
        "builder.add_edge(\"node_1\",\"node_2\")\n",
        "builder.add_edge(\"node_2\",END)\n",
        "\n",
        "graph:CompiledStateGraph=builder.compile()\n",
        "display(Image(graph.get_graph().draw_mermaid_png()))\n",
        "\n",
        "graph.invoke({\"foo\": 1,\"buz\":0})"
      ],
      "metadata": {
        "colab": {
          "base_uri": "https://localhost:8080/",
          "height": 506
        },
        "id": "3vd9UXoYj-lR",
        "outputId": "7dd2ddfe-c325-45d8-964a-fa627bde0217"
      },
      "execution_count": 11,
      "outputs": [
        {
          "output_type": "display_data",
          "data": {
            "image/png": "[encoded data removed]",
            "text/plain": [
              "<IPython.core.display.Image object>"
            ]
          },
          "metadata": {}
        },
        {
          "output_type": "stream",
          "name": "stdout",
          "text": [
            "Initial state foo: 1\n",
            "Initial state buz: 0\n",
            "___node___1\n",
            "Node2 response buz: 2\n",
            "Initial state foo: 1\n",
            "Initial state buz: 2\n",
            "___node___2\n",
            "Node2 response foo: 3\n"
          ]
        },
        {
          "output_type": "execute_result",
          "data": {
            "text/plain": [
              "{'foo': 3, 'buz': 2}"
            ]
          },
          "metadata": {},
          "execution_count": 11
        }
      ]
    },
    {
      "cell_type": "code",
      "source": [
        "class OverAllState(TypedDict):\n",
        "    foo:int\n",
        "\n",
        "class PrivateState(TypedDict):\n",
        "    buz:int\n",
        "\n",
        "def node_1(state:OverAllState) -> OverAllState:\n",
        "    print(f\"Initial state foo: {state['foo']}\")\n",
        "    print(\"___node___1\")\n",
        "    response={\"buz\":state[\"foo\"]+1}\n",
        "\n",
        "    print(f\"Node2 response buz: {response['buz']}\")\n",
        "    return response\n",
        "\n",
        "def node_2(state:PrivateState) -> PrivateState:\n",
        "    print(f\"Initial state buz: {state['buz']}\")\n",
        "    print(\"___node___2\")\n",
        "    response={\"foo\":state[\"buz\"]+1}\n",
        "    print(f\"Node2 response foo: {response['foo']}\")\n",
        "\n",
        "    return response\n",
        "\n",
        "builder:StateGraph=StateGraph(OverAllState)\n",
        "\n",
        "builder.add_node(\"node_1\",node_1)\n",
        "builder.add_node(\"node_2\",node_2)\n",
        "\n",
        "builder.add_edge(START,\"node_1\")\n",
        "builder.add_edge(\"node_1\",\"node_2\")\n",
        "builder.add_edge(\"node_2\",END)\n",
        "\n",
        "graph:CompiledStateGraph=builder.compile()\n",
        "display(Image(graph.get_graph().draw_mermaid_png()))\n",
        "\n",
        "graph.invoke({\"foo\": 1,\"buz\":0})"
      ],
      "metadata": {
        "colab": {
          "base_uri": "https://localhost:8080/",
          "height": 472
        },
        "id": "SnpNsrtQoB2O",
        "outputId": "2bafa3ea-4d65-4963-8ddf-8ec914a4abc7"
      },
      "execution_count": 14,
      "outputs": [
        {
          "output_type": "display_data",
          "data": {
            "image/png": "[encoded data removed]",
            "text/plain": [
              "<IPython.core.display.Image object>"
            ]
          },
          "metadata": {}
        },
        {
          "output_type": "stream",
          "name": "stdout",
          "text": [
            "Initial state foo: 1\n",
            "___node___1\n",
            "Node2 response buz: 2\n",
            "Initial state buz: 2\n",
            "___node___2\n",
            "Node2 response foo: 3\n"
          ]
        },
        {
          "output_type": "execute_result",
          "data": {
            "text/plain": [
              "{'foo': 3}"
            ]
          },
          "metadata": {},
          "execution_count": 14
        }
      ]
    },
    {
      "cell_type": "code",
      "source": [
        "from typing_extensions import TypedDict\n",
        "from IPython.display import Image, display\n",
        "from langgraph.graph import StateGraph,START,END\n",
        "from langgraph.graph.state import CompiledStateGraph"
      ],
      "metadata": {
        "id": "5tTZ5HSZvJUg"
      },
      "execution_count": 8,
      "outputs": []
    },
    {
      "cell_type": "code",
      "source": [
        "class OverallState(TypedDict):\n",
        "    question: str\n",
        "    answer: str\n",
        "    notes: str\n",
        "\n",
        "def thinking_node(state: OverallState) -> OverallState:\n",
        "    return {\"answer\": \"bye\", \"notes\": \"... his is name is Lance\"}\n",
        "\n",
        "def answer_node(state: OverallState) -> OverallState:\n",
        "    return {\"answer\": \"bye Lance\"}\n",
        "\n",
        "graph: StateGraph = StateGraph(OverallState)\n",
        "graph.add_node(\"answer_node\", answer_node)\n",
        "graph.add_node(\"thinking_node\", thinking_node)\n",
        "graph.add_edge(START, \"thinking_node\")\n",
        "graph.add_edge(\"thinking_node\", \"answer_node\")\n",
        "graph.add_edge(\"answer_node\", END)\n",
        "\n",
        "graph: CompiledStateGraph = graph.compile()\n",
        "\n",
        "# View\n",
        "display(Image(graph.get_graph().draw_mermaid_png()))\n",
        "graph.invoke({\"question\":\"hi\"})"
      ],
      "metadata": {
        "colab": {
          "base_uri": "https://localhost:8080/",
          "height": 367
        },
        "id": "KY_Ld0CxxXex",
        "outputId": "a48ab163-7803-4bd2-f3a6-4ddbb08898f4"
      },
      "execution_count": 13,
      "outputs": [
        {
          "output_type": "display_data",
          "data": {
            "image/png": "[encoded data removed]",
            "text/plain": [
              "<IPython.core.display.Image object>"
            ]
          },
          "metadata": {}
        },
        {
          "output_type": "execute_result",
          "data": {
            "text/plain": [
              "{'question': 'hi', 'answer': 'bye Lance', 'notes': '... his is name is Lance'}"
            ]
          },
          "metadata": {},
          "execution_count": 13
        }
      ]
    },
    {
      "cell_type": "code",
      "source": [
        "class InputState(TypedDict):\n",
        "    question: str\n",
        "\n",
        "class OutputState(TypedDict):\n",
        "    answer:str\n",
        "class OverAllState(TypedDict):\n",
        "    question:str\n",
        "    answer:str\n",
        "    notes:str\n",
        "\n",
        "def thinking_node(state: OverallState) -> OverallState:\n",
        "    return {\"answer\": \"bye\", \"notes\": \"... his is name is Lance\"}\n",
        "\n",
        "def answer_node(state: OverallState) -> OverallState:\n",
        "    return {\"answer\": \"bye Lance\"}\n",
        "\n",
        "graph: StateGraph = StateGraph(OverallState, input=InputState, output=OutputState)\n",
        "graph.add_node(\"answer_node\", answer_node)\n",
        "graph.add_node(\"thinking_node\", thinking_node)\n",
        "graph.add_edge(START, \"thinking_node\")\n",
        "graph.add_edge(\"thinking_node\", \"answer_node\")\n",
        "graph.add_edge(\"answer_node\", END)\n",
        "\n",
        "graph: CompiledStateGraph = graph.compile()\n",
        "\n",
        "# View\n",
        "display(Image(graph.get_graph().draw_mermaid_png()))\n",
        "graph.invoke({\"question\":\"hi\"})"
      ],
      "metadata": {
        "colab": {
          "base_uri": "https://localhost:8080/",
          "height": 367
        },
        "id": "eVl_aeog0Csl",
        "outputId": "b3248d27-e4b6-4a71-c369-175aeb30c5f9"
      },
      "execution_count": 15,
      "outputs": [
        {
          "output_type": "display_data",
          "data": {
            "image/png": "[encoded data removed]",
            "text/plain": [
              "<IPython.core.display.Image object>"
            ]
          },
          "metadata": {}
        },
        {
          "output_type": "execute_result",
          "data": {
            "text/plain": [
              "{'answer': 'bye Lance'}"
            ]
          },
          "metadata": {},
          "execution_count": 15
        }
      ]
    },
    {
      "cell_type": "markdown",
      "source": [
        "#Trim & Filter Messages"
      ],
      "metadata": {
        "id": "XhVvSdvYygDX"
      }
    },
    {
      "cell_type": "code",
      "source": [
        "from pprint import pprint\n",
        "from langchain_core.messages import AIMessage, HumanMessage\n",
        "\n",
        "messages=[AIMessage(f\"How can I help you today?\", name=\"Assistant\")]\n",
        "messages.append(HumanMessage(f\"I'm looking for information about Agentic AI.One line answer.\", name=\"Lance\"))\n",
        "\n",
        "print(messages)\n",
        "for m in messages:\n",
        "    m.pretty_print()"
      ],
      "metadata": {
        "colab": {
          "base_uri": "https://localhost:8080/"
        },
        "id": "zPN3uBDLymFg",
        "outputId": "a037ed80-a7c3-4a03-baa6-a4ec3b3923d6"
      },
      "execution_count": 21,
      "outputs": [
        {
          "output_type": "stream",
          "name": "stdout",
          "text": [
            "[AIMessage(content='How can I help you today?', additional_kwargs={}, response_metadata={}, name='Assistant'), HumanMessage(content=\"I'm looking for information about Agentic AI.One line answer.\", additional_kwargs={}, response_metadata={}, name='Lance')]\n",
            "==================================\u001b[1m Ai Message \u001b[0m==================================\n",
            "Name: Assistant\n",
            "\n",
            "How can I help you today?\n",
            "================================\u001b[1m Human Message \u001b[0m=================================\n",
            "Name: Lance\n",
            "\n",
            "I'm looking for information about Agentic AI.One line answer.\n"
          ]
        }
      ]
    },
    {
      "cell_type": "code",
      "source": [
        "llm.invoke(messages)"
      ],
      "metadata": {
        "colab": {
          "base_uri": "https://localhost:8080/"
        },
        "id": "NU_xvXs80E8F",
        "outputId": "782d5b7c-4cb0-4be8-897a-5a0cb810f61c"
      },
      "execution_count": 11,
      "outputs": [
        {
          "output_type": "execute_result",
          "data": {
            "text/plain": [
              "AIMessage(content='Okay, great!  To give you the best information on whales, I need a little more direction.  What specifically about whales are you interested in?  For example, are you interested in:\\n\\n* **Specific whale species?** (e.g., humpback whales, blue whales, orcas)\\n* **Their biology?** (e.g., anatomy, physiology, diet, reproduction)\\n* **Their behavior?** (e.g., migration patterns, communication, social structures)\\n* **Their conservation status?** (e.g., threats to their populations, conservation efforts)\\n* **Their cultural significance?** (e.g., their role in indigenous cultures, whale watching)\\n* **A particular aspect of their life cycle?** (e.g., calving, migration, feeding)\\n\\n\\nThe more detail you can provide, the better I can assist you.', additional_kwargs={}, response_metadata={'prompt_feedback': {'block_reason': 0, 'safety_ratings': []}, 'finish_reason': 'STOP', 'safety_ratings': []}, id='run-f06e45fa-f1b2-4481-9ab4-218741c4d6f2-0', usage_metadata={'input_tokens': 20, 'output_tokens': 186, 'total_tokens': 206, 'input_token_details': {'cache_read': 0}})"
            ]
          },
          "metadata": {},
          "execution_count": 11
        }
      ]
    },
    {
      "cell_type": "code",
      "source": [
        "from IPython.display import Image, display\n",
        "from langgraph.graph import StateGraph, START, END, MessagesState\n",
        "from langgraph.graph.state import CompiledStateGraph\n",
        "\n",
        "#make node\n",
        "def chat_model_node(state: MessagesState) -> MessagesState:\n",
        "    response= {\"messages\":llm.invoke(state[\"messages\"])}\n",
        "    return response\n",
        "#make graph\n",
        "# graph: StateGraph = StateGraph(MessagesState)\n",
        "\n",
        "# chat_model_node({\"messages\":messages})\n",
        "\n",
        "builder: StateGraph = StateGraph(MessagesState)\n",
        "\n",
        "builder.add_node(\"chat_model\",chat_model_node)\n",
        "\n",
        "builder.add_edge(START,\"chat_model\")\n",
        "builder.add_edge(\"chat_model\",END)\n",
        "\n",
        "graph: CompiledStateGraph = builder.compile()\n",
        "\n",
        "# View\n",
        "display(Image(graph.get_graph().draw_mermaid_png()))\n",
        "\n",
        "#invoking\n",
        "output=graph.invoke({\"messages\":messages})\n",
        "\n",
        "for m in output['messages']:\n",
        "    m.pretty_print()"
      ],
      "metadata": {
        "colab": {
          "base_uri": "https://localhost:8080/",
          "height": 442
        },
        "id": "KryzLTwt00GC",
        "outputId": "74efe276-799e-4e35-aefe-6a341e847c68"
      },
      "execution_count": 14,
      "outputs": [
        {
          "output_type": "display_data",
          "data": {
            "image/png": "[encoded data removed]",
            "text/plain": [
              "<IPython.core.display.Image object>"
            ]
          },
          "metadata": {}
        },
        {
          "output_type": "stream",
          "name": "stdout",
          "text": [
            "==================================\u001b[1m Ai Message \u001b[0m==================================\n",
            "Name: Assistant\n",
            "\n",
            "So you said you were researching ocean mamals?\n",
            "================================\u001b[1m Human Message \u001b[0m=================================\n",
            "Name: Lance\n",
            "\n",
            "I'm looking for information on whales, specifically.One line answer.\n",
            "==================================\u001b[1m Ai Message \u001b[0m==================================\n",
            "\n",
            "Whales are marine mammals that include baleen whales and toothed whales.\n"
          ]
        }
      ]
    },
    {
      "cell_type": "code",
      "source": [
        "async for m in graph.astream_events({\"messages\":messages},version=\"v2\"):\n",
        "      print(m)\n",
        "      print(\"\\n=======================\\n\")"
      ],
      "metadata": {
        "colab": {
          "base_uri": "https://localhost:8080/"
        },
        "id": "f15UB5tL2Oz0",
        "outputId": "de207adb-bc20-4a4a-8981-548c4442e346"
      },
      "execution_count": 18,
      "outputs": [
        {
          "output_type": "stream",
          "name": "stdout",
          "text": [
            "{'event': 'on_chain_start', 'data': {'input': {'messages': [AIMessage(content='So you said you were researching ocean mamals?', additional_kwargs={}, response_metadata={}, name='Assistant', id='8b25d212-6105-4b60-a230-379564eb2fcc'), HumanMessage(content=\"I'm looking for information on whales, specifically.One line answer.\", additional_kwargs={}, response_metadata={}, name='Lance', id='f03d01eb-45d2-4352-ab7d-32fc39f5d855')]}}, 'name': 'LangGraph', 'tags': [], 'run_id': '1459ecc4-deeb-4822-a5cf-e3edb9c77999', 'metadata': {}, 'parent_ids': []}\n",
            "\n",
            "=======================\n",
            "\n",
            "{'event': 'on_chain_start', 'data': {'input': {'messages': [AIMessage(content='So you said you were researching ocean mamals?', additional_kwargs={}, response_metadata={}, name='Assistant', id='8b25d212-6105-4b60-a230-379564eb2fcc'), HumanMessage(content=\"I'm looking for information on whales, specifically.One line answer.\", additional_kwargs={}, response_metadata={}, name='Lance', id='f03d01eb-45d2-4352-ab7d-32fc39f5d855')]}}, 'name': '__start__', 'tags': ['graph:step:0', 'langsmith:hidden'], 'run_id': '01c2f368-6e78-44c6-b7ea-9f4876c739c5', 'metadata': {'langgraph_step': 0, 'langgraph_node': '__start__', 'langgraph_triggers': ['__start__'], 'langgraph_path': ('__pregel_pull', '__start__'), 'langgraph_checkpoint_ns': '__start__:be41e76d-6b7f-ec41-50d7-6f93e8ef9c7f'}, 'parent_ids': ['1459ecc4-deeb-4822-a5cf-e3edb9c77999']}\n",
            "\n",
            "=======================\n",
            "\n",
            "{'event': 'on_chain_start', 'data': {'input': {'messages': [AIMessage(content='So you said you were researching ocean mamals?', additional_kwargs={}, response_metadata={}, name='Assistant', id='8b25d212-6105-4b60-a230-379564eb2fcc'), HumanMessage(content=\"I'm looking for information on whales, specifically.One line answer.\", additional_kwargs={}, response_metadata={}, name='Lance', id='f03d01eb-45d2-4352-ab7d-32fc39f5d855')]}}, 'name': '_write', 'tags': ['seq:step:1', 'langsmith:hidden', 'langsmith:hidden'], 'run_id': 'ac3e2d4c-8200-4ad5-85d9-fee91a66cba0', 'metadata': {'langgraph_step': 0, 'langgraph_node': '__start__', 'langgraph_triggers': ['__start__'], 'langgraph_path': ('__pregel_pull', '__start__'), 'langgraph_checkpoint_ns': '__start__:be41e76d-6b7f-ec41-50d7-6f93e8ef9c7f'}, 'parent_ids': ['1459ecc4-deeb-4822-a5cf-e3edb9c77999', '01c2f368-6e78-44c6-b7ea-9f4876c739c5']}\n",
            "\n",
            "=======================\n",
            "\n",
            "{'event': 'on_chain_end', 'data': {'output': {'messages': [AIMessage(content='So you said you were researching ocean mamals?', additional_kwargs={}, response_metadata={}, name='Assistant', id='8b25d212-6105-4b60-a230-379564eb2fcc'), HumanMessage(content=\"I'm looking for information on whales, specifically.One line answer.\", additional_kwargs={}, response_metadata={}, name='Lance', id='f03d01eb-45d2-4352-ab7d-32fc39f5d855')]}, 'input': {'messages': [AIMessage(content='So you said you were researching ocean mamals?', additional_kwargs={}, response_metadata={}, name='Assistant', id='8b25d212-6105-4b60-a230-379564eb2fcc'), HumanMessage(content=\"I'm looking for information on whales, specifically.One line answer.\", additional_kwargs={}, response_metadata={}, name='Lance', id='f03d01eb-45d2-4352-ab7d-32fc39f5d855')]}}, 'run_id': 'ac3e2d4c-8200-4ad5-85d9-fee91a66cba0', 'name': '_write', 'tags': ['seq:step:1', 'langsmith:hidden', 'langsmith:hidden'], 'metadata': {'langgraph_step': 0, 'langgraph_node': '__start__', 'langgraph_triggers': ['__start__'], 'langgraph_path': ('__pregel_pull', '__start__'), 'langgraph_checkpoint_ns': '__start__:be41e76d-6b7f-ec41-50d7-6f93e8ef9c7f'}, 'parent_ids': ['1459ecc4-deeb-4822-a5cf-e3edb9c77999', '01c2f368-6e78-44c6-b7ea-9f4876c739c5']}\n",
            "\n",
            "=======================\n",
            "\n",
            "{'event': 'on_chain_start', 'data': {'input': {'messages': [AIMessage(content='So you said you were researching ocean mamals?', additional_kwargs={}, response_metadata={}, name='Assistant', id='8b25d212-6105-4b60-a230-379564eb2fcc'), HumanMessage(content=\"I'm looking for information on whales, specifically.One line answer.\", additional_kwargs={}, response_metadata={}, name='Lance', id='f03d01eb-45d2-4352-ab7d-32fc39f5d855')]}}, 'name': '_write', 'tags': ['seq:step:3', 'langsmith:hidden', 'langsmith:hidden'], 'run_id': 'ca29accc-a87f-4884-bcca-adeaebfe4336', 'metadata': {'langgraph_step': 0, 'langgraph_node': '__start__', 'langgraph_triggers': ['__start__'], 'langgraph_path': ('__pregel_pull', '__start__'), 'langgraph_checkpoint_ns': '__start__:be41e76d-6b7f-ec41-50d7-6f93e8ef9c7f'}, 'parent_ids': ['1459ecc4-deeb-4822-a5cf-e3edb9c77999', '01c2f368-6e78-44c6-b7ea-9f4876c739c5']}\n",
            "\n",
            "=======================\n",
            "\n",
            "{'event': 'on_chain_end', 'data': {'output': {'messages': [AIMessage(content='So you said you were researching ocean mamals?', additional_kwargs={}, response_metadata={}, name='Assistant', id='8b25d212-6105-4b60-a230-379564eb2fcc'), HumanMessage(content=\"I'm looking for information on whales, specifically.One line answer.\", additional_kwargs={}, response_metadata={}, name='Lance', id='f03d01eb-45d2-4352-ab7d-32fc39f5d855')]}, 'input': {'messages': [AIMessage(content='So you said you were researching ocean mamals?', additional_kwargs={}, response_metadata={}, name='Assistant', id='8b25d212-6105-4b60-a230-379564eb2fcc'), HumanMessage(content=\"I'm looking for information on whales, specifically.One line answer.\", additional_kwargs={}, response_metadata={}, name='Lance', id='f03d01eb-45d2-4352-ab7d-32fc39f5d855')]}}, 'run_id': 'ca29accc-a87f-4884-bcca-adeaebfe4336', 'name': '_write', 'tags': ['seq:step:3', 'langsmith:hidden', 'langsmith:hidden'], 'metadata': {'langgraph_step': 0, 'langgraph_node': '__start__', 'langgraph_triggers': ['__start__'], 'langgraph_path': ('__pregel_pull', '__start__'), 'langgraph_checkpoint_ns': '__start__:be41e76d-6b7f-ec41-50d7-6f93e8ef9c7f'}, 'parent_ids': ['1459ecc4-deeb-4822-a5cf-e3edb9c77999', '01c2f368-6e78-44c6-b7ea-9f4876c739c5']}\n",
            "\n",
            "=======================\n",
            "\n",
            "{'event': 'on_chain_stream', 'run_id': '01c2f368-6e78-44c6-b7ea-9f4876c739c5', 'name': '__start__', 'tags': ['graph:step:0', 'langsmith:hidden'], 'metadata': {'langgraph_step': 0, 'langgraph_node': '__start__', 'langgraph_triggers': ['__start__'], 'langgraph_path': ('__pregel_pull', '__start__'), 'langgraph_checkpoint_ns': '__start__:be41e76d-6b7f-ec41-50d7-6f93e8ef9c7f'}, 'data': {'chunk': {'messages': [AIMessage(content='So you said you were researching ocean mamals?', additional_kwargs={}, response_metadata={}, name='Assistant', id='8b25d212-6105-4b60-a230-379564eb2fcc'), HumanMessage(content=\"I'm looking for information on whales, specifically.One line answer.\", additional_kwargs={}, response_metadata={}, name='Lance', id='f03d01eb-45d2-4352-ab7d-32fc39f5d855')]}}, 'parent_ids': ['1459ecc4-deeb-4822-a5cf-e3edb9c77999']}\n",
            "\n",
            "=======================\n",
            "\n",
            "{'event': 'on_chain_end', 'data': {'output': {'messages': [AIMessage(content='So you said you were researching ocean mamals?', additional_kwargs={}, response_metadata={}, name='Assistant', id='8b25d212-6105-4b60-a230-379564eb2fcc'), HumanMessage(content=\"I'm looking for information on whales, specifically.One line answer.\", additional_kwargs={}, response_metadata={}, name='Lance', id='f03d01eb-45d2-4352-ab7d-32fc39f5d855')]}, 'input': {'messages': [AIMessage(content='So you said you were researching ocean mamals?', additional_kwargs={}, response_metadata={}, name='Assistant', id='8b25d212-6105-4b60-a230-379564eb2fcc'), HumanMessage(content=\"I'm looking for information on whales, specifically.One line answer.\", additional_kwargs={}, response_metadata={}, name='Lance', id='f03d01eb-45d2-4352-ab7d-32fc39f5d855')]}}, 'run_id': '01c2f368-6e78-44c6-b7ea-9f4876c739c5', 'name': '__start__', 'tags': ['graph:step:0', 'langsmith:hidden'], 'metadata': {'langgraph_step': 0, 'langgraph_node': '__start__', 'langgraph_triggers': ['__start__'], 'langgraph_path': ('__pregel_pull', '__start__'), 'langgraph_checkpoint_ns': '__start__:be41e76d-6b7f-ec41-50d7-6f93e8ef9c7f'}, 'parent_ids': ['1459ecc4-deeb-4822-a5cf-e3edb9c77999']}\n",
            "\n",
            "=======================\n",
            "\n",
            "{'event': 'on_chain_start', 'data': {'input': {'messages': [AIMessage(content='So you said you were researching ocean mamals?', additional_kwargs={}, response_metadata={}, name='Assistant', id='8b25d212-6105-4b60-a230-379564eb2fcc'), HumanMessage(content=\"I'm looking for information on whales, specifically.One line answer.\", additional_kwargs={}, response_metadata={}, name='Lance', id='f03d01eb-45d2-4352-ab7d-32fc39f5d855')]}}, 'name': 'chat_model', 'tags': ['graph:step:1'], 'run_id': 'cb87e83b-5a98-4cab-b558-8a4c1fe8645b', 'metadata': {'langgraph_step': 1, 'langgraph_node': 'chat_model', 'langgraph_triggers': ['start:chat_model'], 'langgraph_path': ('__pregel_pull', 'chat_model'), 'langgraph_checkpoint_ns': 'chat_model:2bfaf43f-9cb9-68b4-a582-9bf0764b1e16'}, 'parent_ids': ['1459ecc4-deeb-4822-a5cf-e3edb9c77999']}\n",
            "\n",
            "=======================\n",
            "\n",
            "{'event': 'on_chat_model_start', 'data': {'input': {'messages': [[AIMessage(content='So you said you were researching ocean mamals?', additional_kwargs={}, response_metadata={}, name='Assistant', id='8b25d212-6105-4b60-a230-379564eb2fcc'), HumanMessage(content=\"I'm looking for information on whales, specifically.One line answer.\", additional_kwargs={}, response_metadata={}, name='Lance', id='f03d01eb-45d2-4352-ab7d-32fc39f5d855')]]}}, 'name': 'ChatGoogleGenerativeAI', 'tags': ['seq:step:1'], 'run_id': 'f4fd5957-daa8-41a0-91e3-ff4ed344b29d', 'metadata': {'langgraph_step': 1, 'langgraph_node': 'chat_model', 'langgraph_triggers': ['start:chat_model'], 'langgraph_path': ('__pregel_pull', 'chat_model'), 'langgraph_checkpoint_ns': 'chat_model:2bfaf43f-9cb9-68b4-a582-9bf0764b1e16', 'checkpoint_ns': 'chat_model:2bfaf43f-9cb9-68b4-a582-9bf0764b1e16', 'ls_provider': 'google_genai', 'ls_model_name': 'models/gemini-1.5-flash', 'ls_model_type': 'chat', 'ls_temperature': 0.7}, 'parent_ids': ['1459ecc4-deeb-4822-a5cf-e3edb9c77999', 'cb87e83b-5a98-4cab-b558-8a4c1fe8645b']}\n",
            "\n",
            "=======================\n",
            "\n",
            "{'event': 'on_chat_model_stream', 'data': {'chunk': AIMessageChunk(content='Wh', additional_kwargs={}, response_metadata={'safety_ratings': []}, id='run-f4fd5957-daa8-41a0-91e3-ff4ed344b29d', usage_metadata={'input_tokens': 27, 'output_tokens': 0, 'total_tokens': 27, 'input_token_details': {'cache_read': 0}})}, 'run_id': 'f4fd5957-daa8-41a0-91e3-ff4ed344b29d', 'name': 'ChatGoogleGenerativeAI', 'tags': ['seq:step:1'], 'metadata': {'langgraph_step': 1, 'langgraph_node': 'chat_model', 'langgraph_triggers': ['start:chat_model'], 'langgraph_path': ('__pregel_pull', 'chat_model'), 'langgraph_checkpoint_ns': 'chat_model:2bfaf43f-9cb9-68b4-a582-9bf0764b1e16', 'checkpoint_ns': 'chat_model:2bfaf43f-9cb9-68b4-a582-9bf0764b1e16', 'ls_provider': 'google_genai', 'ls_model_name': 'models/gemini-1.5-flash', 'ls_model_type': 'chat', 'ls_temperature': 0.7}, 'parent_ids': ['1459ecc4-deeb-4822-a5cf-e3edb9c77999', 'cb87e83b-5a98-4cab-b558-8a4c1fe8645b']}\n",
            "\n",
            "=======================\n",
            "\n",
            "{'event': 'on_chat_model_stream', 'data': {'chunk': AIMessageChunk(content='ales are marine mammals that include baleen whales and toothed whales.', additional_kwargs={}, response_metadata={'finish_reason': 'STOP', 'safety_ratings': []}, id='run-f4fd5957-daa8-41a0-91e3-ff4ed344b29d', usage_metadata={'input_tokens': -2, 'output_tokens': 15, 'total_tokens': 13, 'input_token_details': {'cache_read': 0}})}, 'run_id': 'f4fd5957-daa8-41a0-91e3-ff4ed344b29d', 'name': 'ChatGoogleGenerativeAI', 'tags': ['seq:step:1'], 'metadata': {'langgraph_step': 1, 'langgraph_node': 'chat_model', 'langgraph_triggers': ['start:chat_model'], 'langgraph_path': ('__pregel_pull', 'chat_model'), 'langgraph_checkpoint_ns': 'chat_model:2bfaf43f-9cb9-68b4-a582-9bf0764b1e16', 'checkpoint_ns': 'chat_model:2bfaf43f-9cb9-68b4-a582-9bf0764b1e16', 'ls_provider': 'google_genai', 'ls_model_name': 'models/gemini-1.5-flash', 'ls_model_type': 'chat', 'ls_temperature': 0.7}, 'parent_ids': ['1459ecc4-deeb-4822-a5cf-e3edb9c77999', 'cb87e83b-5a98-4cab-b558-8a4c1fe8645b']}\n",
            "\n",
            "=======================\n",
            "\n",
            "{'event': 'on_chat_model_end', 'data': {'output': AIMessage(content='Whales are marine mammals that include baleen whales and toothed whales.', additional_kwargs={}, response_metadata={'safety_ratings': [], 'finish_reason': 'STOP'}, id='run-f4fd5957-daa8-41a0-91e3-ff4ed344b29d', usage_metadata={'input_tokens': 25, 'output_tokens': 15, 'total_tokens': 40, 'input_token_details': {'cache_read': 0}}), 'input': {'messages': [[AIMessage(content='So you said you were researching ocean mamals?', additional_kwargs={}, response_metadata={}, name='Assistant', id='8b25d212-6105-4b60-a230-379564eb2fcc'), HumanMessage(content=\"I'm looking for information on whales, specifically.One line answer.\", additional_kwargs={}, response_metadata={}, name='Lance', id='f03d01eb-45d2-4352-ab7d-32fc39f5d855')]]}}, 'run_id': 'f4fd5957-daa8-41a0-91e3-ff4ed344b29d', 'name': 'ChatGoogleGenerativeAI', 'tags': ['seq:step:1'], 'metadata': {'langgraph_step': 1, 'langgraph_node': 'chat_model', 'langgraph_triggers': ['start:chat_model'], 'langgraph_path': ('__pregel_pull', 'chat_model'), 'langgraph_checkpoint_ns': 'chat_model:2bfaf43f-9cb9-68b4-a582-9bf0764b1e16', 'checkpoint_ns': 'chat_model:2bfaf43f-9cb9-68b4-a582-9bf0764b1e16', 'ls_provider': 'google_genai', 'ls_model_name': 'models/gemini-1.5-flash', 'ls_model_type': 'chat', 'ls_temperature': 0.7}, 'parent_ids': ['1459ecc4-deeb-4822-a5cf-e3edb9c77999', 'cb87e83b-5a98-4cab-b558-8a4c1fe8645b']}\n",
            "\n",
            "=======================\n",
            "\n",
            "{'event': 'on_chain_start', 'data': {'input': {'messages': AIMessage(content='Whales are marine mammals that include baleen whales and toothed whales.', additional_kwargs={}, response_metadata={'safety_ratings': [], 'finish_reason': 'STOP'}, id='run-f4fd5957-daa8-41a0-91e3-ff4ed344b29d', usage_metadata={'input_tokens': 25, 'output_tokens': 15, 'total_tokens': 40, 'input_token_details': {'cache_read': 0}})}}, 'name': '_write', 'tags': ['seq:step:2', 'langsmith:hidden'], 'run_id': '5a77e29b-1320-4809-ab58-225706dca1af', 'metadata': {'langgraph_step': 1, 'langgraph_node': 'chat_model', 'langgraph_triggers': ['start:chat_model'], 'langgraph_path': ('__pregel_pull', 'chat_model'), 'langgraph_checkpoint_ns': 'chat_model:2bfaf43f-9cb9-68b4-a582-9bf0764b1e16'}, 'parent_ids': ['1459ecc4-deeb-4822-a5cf-e3edb9c77999', 'cb87e83b-5a98-4cab-b558-8a4c1fe8645b']}\n",
            "\n",
            "=======================\n",
            "\n",
            "{'event': 'on_chain_end', 'data': {'output': {'messages': AIMessage(content='Whales are marine mammals that include baleen whales and toothed whales.', additional_kwargs={}, response_metadata={'safety_ratings': [], 'finish_reason': 'STOP'}, id='run-f4fd5957-daa8-41a0-91e3-ff4ed344b29d', usage_metadata={'input_tokens': 25, 'output_tokens': 15, 'total_tokens': 40, 'input_token_details': {'cache_read': 0}})}, 'input': {'messages': AIMessage(content='Whales are marine mammals that include baleen whales and toothed whales.', additional_kwargs={}, response_metadata={'safety_ratings': [], 'finish_reason': 'STOP'}, id='run-f4fd5957-daa8-41a0-91e3-ff4ed344b29d', usage_metadata={'input_tokens': 25, 'output_tokens': 15, 'total_tokens': 40, 'input_token_details': {'cache_read': 0}})}}, 'run_id': '5a77e29b-1320-4809-ab58-225706dca1af', 'name': '_write', 'tags': ['seq:step:2', 'langsmith:hidden'], 'metadata': {'langgraph_step': 1, 'langgraph_node': 'chat_model', 'langgraph_triggers': ['start:chat_model'], 'langgraph_path': ('__pregel_pull', 'chat_model'), 'langgraph_checkpoint_ns': 'chat_model:2bfaf43f-9cb9-68b4-a582-9bf0764b1e16'}, 'parent_ids': ['1459ecc4-deeb-4822-a5cf-e3edb9c77999', 'cb87e83b-5a98-4cab-b558-8a4c1fe8645b']}\n",
            "\n",
            "=======================\n",
            "\n",
            "{'event': 'on_chain_stream', 'run_id': 'cb87e83b-5a98-4cab-b558-8a4c1fe8645b', 'name': 'chat_model', 'tags': ['graph:step:1'], 'metadata': {'langgraph_step': 1, 'langgraph_node': 'chat_model', 'langgraph_triggers': ['start:chat_model'], 'langgraph_path': ('__pregel_pull', 'chat_model'), 'langgraph_checkpoint_ns': 'chat_model:2bfaf43f-9cb9-68b4-a582-9bf0764b1e16'}, 'data': {'chunk': {'messages': AIMessage(content='Whales are marine mammals that include baleen whales and toothed whales.', additional_kwargs={}, response_metadata={'safety_ratings': [], 'finish_reason': 'STOP'}, id='run-f4fd5957-daa8-41a0-91e3-ff4ed344b29d', usage_metadata={'input_tokens': 25, 'output_tokens': 15, 'total_tokens': 40, 'input_token_details': {'cache_read': 0}})}}, 'parent_ids': ['1459ecc4-deeb-4822-a5cf-e3edb9c77999']}\n",
            "\n",
            "=======================\n",
            "\n",
            "{'event': 'on_chain_end', 'data': {'output': {'messages': AIMessage(content='Whales are marine mammals that include baleen whales and toothed whales.', additional_kwargs={}, response_metadata={'safety_ratings': [], 'finish_reason': 'STOP'}, id='run-f4fd5957-daa8-41a0-91e3-ff4ed344b29d', usage_metadata={'input_tokens': 25, 'output_tokens': 15, 'total_tokens': 40, 'input_token_details': {'cache_read': 0}})}, 'input': {'messages': [AIMessage(content='So you said you were researching ocean mamals?', additional_kwargs={}, response_metadata={}, name='Assistant', id='8b25d212-6105-4b60-a230-379564eb2fcc'), HumanMessage(content=\"I'm looking for information on whales, specifically.One line answer.\", additional_kwargs={}, response_metadata={}, name='Lance', id='f03d01eb-45d2-4352-ab7d-32fc39f5d855')]}}, 'run_id': 'cb87e83b-5a98-4cab-b558-8a4c1fe8645b', 'name': 'chat_model', 'tags': ['graph:step:1'], 'metadata': {'langgraph_step': 1, 'langgraph_node': 'chat_model', 'langgraph_triggers': ['start:chat_model'], 'langgraph_path': ('__pregel_pull', 'chat_model'), 'langgraph_checkpoint_ns': 'chat_model:2bfaf43f-9cb9-68b4-a582-9bf0764b1e16'}, 'parent_ids': ['1459ecc4-deeb-4822-a5cf-e3edb9c77999']}\n",
            "\n",
            "=======================\n",
            "\n",
            "{'event': 'on_chain_stream', 'run_id': '1459ecc4-deeb-4822-a5cf-e3edb9c77999', 'name': 'LangGraph', 'tags': [], 'metadata': {}, 'data': {'chunk': {'chat_model': {'messages': AIMessage(content='Whales are marine mammals that include baleen whales and toothed whales.', additional_kwargs={}, response_metadata={'safety_ratings': [], 'finish_reason': 'STOP'}, id='run-f4fd5957-daa8-41a0-91e3-ff4ed344b29d', usage_metadata={'input_tokens': 25, 'output_tokens': 15, 'total_tokens': 40, 'input_token_details': {'cache_read': 0}})}}}, 'parent_ids': []}\n",
            "\n",
            "=======================\n",
            "\n",
            "{'event': 'on_chain_end', 'data': {'output': {'messages': [AIMessage(content='So you said you were researching ocean mamals?', additional_kwargs={}, response_metadata={}, name='Assistant', id='8b25d212-6105-4b60-a230-379564eb2fcc'), HumanMessage(content=\"I'm looking for information on whales, specifically.One line answer.\", additional_kwargs={}, response_metadata={}, name='Lance', id='f03d01eb-45d2-4352-ab7d-32fc39f5d855'), AIMessage(content='Whales are marine mammals that include baleen whales and toothed whales.', additional_kwargs={}, response_metadata={'safety_ratings': [], 'finish_reason': 'STOP'}, id='run-f4fd5957-daa8-41a0-91e3-ff4ed344b29d', usage_metadata={'input_tokens': 25, 'output_tokens': 15, 'total_tokens': 40, 'input_token_details': {'cache_read': 0}})]}}, 'run_id': '1459ecc4-deeb-4822-a5cf-e3edb9c77999', 'name': 'LangGraph', 'tags': [], 'metadata': {}, 'parent_ids': []}\n",
            "\n",
            "=======================\n",
            "\n"
          ]
        }
      ]
    },
    {
      "cell_type": "markdown",
      "source": [
        "#Reducer"
      ],
      "metadata": {
        "id": "nQ2HzL8OHndo"
      }
    },
    {
      "cell_type": "code",
      "source": [
        "from langchain_core.messages import RemoveMessage\n",
        "\n",
        "# node\n",
        "def filter_messages(state:MessagesState) ->MessagesState:\n",
        "    # Delete all but the 2 most recent messags\n",
        "    deleted_messages=[RemoveMessage(content=m.content) for m in state[\"messages\"][:-3]]\n",
        "    print(deleted_messages)\n",
        "    return {\"messages\": deleted_messages}\n",
        "\n",
        "def chat_model_node(state: MessagesState) -> MessagesState:\n",
        "    response= {\"messages\":llm.invoke(state[\"messages\"])}\n",
        "    return response\n",
        "\n",
        "# build graph\n",
        "builder: StateGraph=StateGraph(MessagesState)\n",
        "\n",
        "builder.add_node(\"filter_messages\",filter_messages)\n",
        "builder.add_node(\"chat_model\",chat_model_node)\n",
        "\n",
        "builder.add_edge(START,\"filter_messages\")\n",
        "builder.add_edge(\"filter_messages\",\"chat_model\")\n",
        "builder.add_edge(\"chat_model\",END)\n",
        "\n",
        "graph:CompiledStateGraph=builder.compile()\n",
        "\n",
        "display(Image(graph.get_graph().draw_mermaid_png()))\n",
        "\n",
        "messages=[AIMessage(f\"How can I help you today?\", name=\"Assistant\",id=\"1\")]\n",
        "messages.append(HumanMessage(f\"I'm looking for information about Agentic AI.One line answer.\", name=\"Lance\",id=\"2\"))\n",
        "messages.append(AIMessage(f\"Agentic AI refers to artificial intelligence systems capable of independent goal-directed behavior.\",name=\"Assistant\",id=\"3\"))\n",
        "messages.append(HumanMessage(f\"I'm looking for information about langgraph.short answer.\", name=\"Lance\",id=\"4\"))\n",
        "response=graph.invoke({\"messages\":messages})\n",
        "for m in response['messages']:\n",
        "    m.pretty_print()"
      ],
      "metadata": {
        "colab": {
          "base_uri": "https://localhost:8080/",
          "height": 689
        },
        "id": "_EMob63ZFkJo",
        "outputId": "333796ed-f939-4ad1-e8af-d128a03c645d"
      },
      "execution_count": 44,
      "outputs": [
        {
          "output_type": "display_data",
          "data": {
            "image/png": "[encoded data removed]",
            "text/plain": [
              "<IPython.core.display.Image object>"
            ]
          },
          "metadata": {}
        },
        {
          "output_type": "error",
          "ename": "TypeError",
          "evalue": "RemoveMessage.__init__() missing 1 required positional argument: 'id'",
          "traceback": [
            "\u001b[0;31m---------------------------------------------------------------------------\u001b[0m",
            "\u001b[0;31mTypeError\u001b[0m                                 Traceback (most recent call last)",
            "\u001b[0;32m<ipython-input-44-0ce82387f302>\u001b[0m in \u001b[0;36m<cell line: 0>\u001b[0;34m()\u001b[0m\n\u001b[1;32m     30\u001b[0m \u001b[0mmessages\u001b[0m\u001b[0;34m.\u001b[0m\u001b[0mappend\u001b[0m\u001b[0;34m(\u001b[0m\u001b[0mAIMessage\u001b[0m\u001b[0;34m(\u001b[0m\u001b[0;34mf\"Agentic AI refers to artificial intelligence systems capable of independent goal-directed behavior.\"\u001b[0m\u001b[0;34m,\u001b[0m\u001b[0mname\u001b[0m\u001b[0;34m=\u001b[0m\u001b[0;34m\"Assistant\"\u001b[0m\u001b[0;34m,\u001b[0m\u001b[0mid\u001b[0m\u001b[0;34m=\u001b[0m\u001b[0;34m\"3\"\u001b[0m\u001b[0;34m)\u001b[0m\u001b[0;34m)\u001b[0m\u001b[0;34m\u001b[0m\u001b[0;34m\u001b[0m\u001b[0m\n\u001b[1;32m     31\u001b[0m \u001b[0mmessages\u001b[0m\u001b[0;34m.\u001b[0m\u001b[0mappend\u001b[0m\u001b[0;34m(\u001b[0m\u001b[0mHumanMessage\u001b[0m\u001b[0;34m(\u001b[0m\u001b[0;34mf\"I'm looking for information about langgraph.short answer.\"\u001b[0m\u001b[0;34m,\u001b[0m \u001b[0mname\u001b[0m\u001b[0;34m=\u001b[0m\u001b[0;34m\"Lance\"\u001b[0m\u001b[0;34m,\u001b[0m\u001b[0mid\u001b[0m\u001b[0;34m=\u001b[0m\u001b[0;34m\"4\"\u001b[0m\u001b[0;34m)\u001b[0m\u001b[0;34m)\u001b[0m\u001b[0;34m\u001b[0m\u001b[0;34m\u001b[0m\u001b[0m\n\u001b[0;32m---> 32\u001b[0;31m \u001b[0mresponse\u001b[0m\u001b[0;34m=\u001b[0m\u001b[0mgraph\u001b[0m\u001b[0;34m.\u001b[0m\u001b[0minvoke\u001b[0m\u001b[0;34m(\u001b[0m\u001b[0;34m{\u001b[0m\u001b[0;34m\"messages\"\u001b[0m\u001b[0;34m:\u001b[0m\u001b[0mmessages\u001b[0m\u001b[0;34m}\u001b[0m\u001b[0;34m)\u001b[0m\u001b[0;34m\u001b[0m\u001b[0;34m\u001b[0m\u001b[0m\n\u001b[0m\u001b[1;32m     33\u001b[0m \u001b[0;32mfor\u001b[0m \u001b[0mm\u001b[0m \u001b[0;32min\u001b[0m \u001b[0mresponse\u001b[0m\u001b[0;34m[\u001b[0m\u001b[0;34m'messages'\u001b[0m\u001b[0;34m]\u001b[0m\u001b[0;34m:\u001b[0m\u001b[0;34m\u001b[0m\u001b[0;34m\u001b[0m\u001b[0m\n\u001b[1;32m     34\u001b[0m     \u001b[0mm\u001b[0m\u001b[0;34m.\u001b[0m\u001b[0mpretty_print\u001b[0m\u001b[0;34m(\u001b[0m\u001b[0;34m)\u001b[0m\u001b[0;34m\u001b[0m\u001b[0;34m\u001b[0m\u001b[0m\n",
            "\u001b[0;32m/usr/local/lib/python3.11/dist-packages/langgraph/pregel/__init__.py\u001b[0m in \u001b[0;36minvoke\u001b[0;34m(self, input, config, stream_mode, output_keys, interrupt_before, interrupt_after, debug, **kwargs)\u001b[0m\n\u001b[1;32m   2122\u001b[0m         \u001b[0;32melse\u001b[0m\u001b[0;34m:\u001b[0m\u001b[0;34m\u001b[0m\u001b[0;34m\u001b[0m\u001b[0m\n\u001b[1;32m   2123\u001b[0m             \u001b[0mchunks\u001b[0m \u001b[0;34m=\u001b[0m \u001b[0;34m[\u001b[0m\u001b[0;34m]\u001b[0m\u001b[0;34m\u001b[0m\u001b[0;34m\u001b[0m\u001b[0m\n\u001b[0;32m-> 2124\u001b[0;31m         for chunk in self.stream(\n\u001b[0m\u001b[1;32m   2125\u001b[0m             \u001b[0minput\u001b[0m\u001b[0;34m,\u001b[0m\u001b[0;34m\u001b[0m\u001b[0;34m\u001b[0m\u001b[0m\n\u001b[1;32m   2126\u001b[0m             \u001b[0mconfig\u001b[0m\u001b[0;34m,\u001b[0m\u001b[0;34m\u001b[0m\u001b[0;34m\u001b[0m\u001b[0m\n",
            "\u001b[0;32m/usr/local/lib/python3.11/dist-packages/langgraph/pregel/__init__.py\u001b[0m in \u001b[0;36mstream\u001b[0;34m(self, input, config, stream_mode, output_keys, interrupt_before, interrupt_after, debug, subgraphs)\u001b[0m\n\u001b[1;32m   1777\u001b[0m                 \u001b[0;31m# with channel updates applied only at the transition between steps.\u001b[0m\u001b[0;34m\u001b[0m\u001b[0;34m\u001b[0m\u001b[0m\n\u001b[1;32m   1778\u001b[0m                 \u001b[0;32mwhile\u001b[0m \u001b[0mloop\u001b[0m\u001b[0;34m.\u001b[0m\u001b[0mtick\u001b[0m\u001b[0;34m(\u001b[0m\u001b[0minput_keys\u001b[0m\u001b[0;34m=\u001b[0m\u001b[0mself\u001b[0m\u001b[0;34m.\u001b[0m\u001b[0minput_channels\u001b[0m\u001b[0;34m)\u001b[0m\u001b[0;34m:\u001b[0m\u001b[0;34m\u001b[0m\u001b[0;34m\u001b[0m\u001b[0m\n\u001b[0;32m-> 1779\u001b[0;31m                     for _ in runner.tick(\n\u001b[0m\u001b[1;32m   1780\u001b[0m                         \u001b[0mloop\u001b[0m\u001b[0;34m.\u001b[0m\u001b[0mtasks\u001b[0m\u001b[0;34m.\u001b[0m\u001b[0mvalues\u001b[0m\u001b[0;34m(\u001b[0m\u001b[0;34m)\u001b[0m\u001b[0;34m,\u001b[0m\u001b[0;34m\u001b[0m\u001b[0;34m\u001b[0m\u001b[0m\n\u001b[1;32m   1781\u001b[0m                         \u001b[0mtimeout\u001b[0m\u001b[0;34m=\u001b[0m\u001b[0mself\u001b[0m\u001b[0;34m.\u001b[0m\u001b[0mstep_timeout\u001b[0m\u001b[0;34m,\u001b[0m\u001b[0;34m\u001b[0m\u001b[0;34m\u001b[0m\u001b[0m\n",
            "\u001b[0;32m/usr/local/lib/python3.11/dist-packages/langgraph/pregel/runner.py\u001b[0m in \u001b[0;36mtick\u001b[0;34m(self, tasks, reraise, timeout, retry_policy, get_waiter)\u001b[0m\n\u001b[1;32m    228\u001b[0m             \u001b[0mt\u001b[0m \u001b[0;34m=\u001b[0m \u001b[0mtasks\u001b[0m\u001b[0;34m[\u001b[0m\u001b[0;36m0\u001b[0m\u001b[0;34m]\u001b[0m\u001b[0;34m\u001b[0m\u001b[0;34m\u001b[0m\u001b[0m\n\u001b[1;32m    229\u001b[0m             \u001b[0;32mtry\u001b[0m\u001b[0;34m:\u001b[0m\u001b[0;34m\u001b[0m\u001b[0;34m\u001b[0m\u001b[0m\n\u001b[0;32m--> 230\u001b[0;31m                 run_with_retry(\n\u001b[0m\u001b[1;32m    231\u001b[0m                     \u001b[0mt\u001b[0m\u001b[0;34m,\u001b[0m\u001b[0;34m\u001b[0m\u001b[0;34m\u001b[0m\u001b[0m\n\u001b[1;32m    232\u001b[0m                     \u001b[0mretry_policy\u001b[0m\u001b[0;34m,\u001b[0m\u001b[0;34m\u001b[0m\u001b[0;34m\u001b[0m\u001b[0m\n",
            "\u001b[0;32m/usr/local/lib/python3.11/dist-packages/langgraph/pregel/retry.py\u001b[0m in \u001b[0;36mrun_with_retry\u001b[0;34m(task, retry_policy, configurable)\u001b[0m\n\u001b[1;32m     38\u001b[0m             \u001b[0mtask\u001b[0m\u001b[0;34m.\u001b[0m\u001b[0mwrites\u001b[0m\u001b[0;34m.\u001b[0m\u001b[0mclear\u001b[0m\u001b[0;34m(\u001b[0m\u001b[0;34m)\u001b[0m\u001b[0;34m\u001b[0m\u001b[0;34m\u001b[0m\u001b[0m\n\u001b[1;32m     39\u001b[0m             \u001b[0;31m# run the task\u001b[0m\u001b[0;34m\u001b[0m\u001b[0;34m\u001b[0m\u001b[0m\n\u001b[0;32m---> 40\u001b[0;31m             \u001b[0;32mreturn\u001b[0m \u001b[0mtask\u001b[0m\u001b[0;34m.\u001b[0m\u001b[0mproc\u001b[0m\u001b[0;34m.\u001b[0m\u001b[0minvoke\u001b[0m\u001b[0;34m(\u001b[0m\u001b[0mtask\u001b[0m\u001b[0;34m.\u001b[0m\u001b[0minput\u001b[0m\u001b[0;34m,\u001b[0m \u001b[0mconfig\u001b[0m\u001b[0;34m)\u001b[0m\u001b[0;34m\u001b[0m\u001b[0;34m\u001b[0m\u001b[0m\n\u001b[0m\u001b[1;32m     41\u001b[0m         \u001b[0;32mexcept\u001b[0m \u001b[0mParentCommand\u001b[0m \u001b[0;32mas\u001b[0m \u001b[0mexc\u001b[0m\u001b[0;34m:\u001b[0m\u001b[0;34m\u001b[0m\u001b[0;34m\u001b[0m\u001b[0m\n\u001b[1;32m     42\u001b[0m             \u001b[0mns\u001b[0m\u001b[0;34m:\u001b[0m \u001b[0mstr\u001b[0m \u001b[0;34m=\u001b[0m \u001b[0mconfig\u001b[0m\u001b[0;34m[\u001b[0m\u001b[0mCONF\u001b[0m\u001b[0;34m]\u001b[0m\u001b[0;34m[\u001b[0m\u001b[0mCONFIG_KEY_CHECKPOINT_NS\u001b[0m\u001b[0;34m]\u001b[0m\u001b[0;34m\u001b[0m\u001b[0;34m\u001b[0m\u001b[0m\n",
            "\u001b[0;32m/usr/local/lib/python3.11/dist-packages/langgraph/utils/runnable.py\u001b[0m in \u001b[0;36minvoke\u001b[0;34m(self, input, config, **kwargs)\u001b[0m\n\u001b[1;32m    544\u001b[0m                 )\n\u001b[1;32m    545\u001b[0m                 \u001b[0;32mif\u001b[0m \u001b[0mi\u001b[0m \u001b[0;34m==\u001b[0m \u001b[0;36m0\u001b[0m\u001b[0;34m:\u001b[0m\u001b[0;34m\u001b[0m\u001b[0;34m\u001b[0m\u001b[0m\n\u001b[0;32m--> 546\u001b[0;31m                     \u001b[0minput\u001b[0m \u001b[0;34m=\u001b[0m \u001b[0mstep\u001b[0m\u001b[0;34m.\u001b[0m\u001b[0minvoke\u001b[0m\u001b[0;34m(\u001b[0m\u001b[0minput\u001b[0m\u001b[0;34m,\u001b[0m \u001b[0mconfig\u001b[0m\u001b[0;34m,\u001b[0m \u001b[0;34m**\u001b[0m\u001b[0mkwargs\u001b[0m\u001b[0;34m)\u001b[0m\u001b[0;34m\u001b[0m\u001b[0;34m\u001b[0m\u001b[0m\n\u001b[0m\u001b[1;32m    547\u001b[0m                 \u001b[0;32melse\u001b[0m\u001b[0;34m:\u001b[0m\u001b[0;34m\u001b[0m\u001b[0;34m\u001b[0m\u001b[0m\n\u001b[1;32m    548\u001b[0m                     \u001b[0minput\u001b[0m \u001b[0;34m=\u001b[0m \u001b[0mstep\u001b[0m\u001b[0;34m.\u001b[0m\u001b[0minvoke\u001b[0m\u001b[0;34m(\u001b[0m\u001b[0minput\u001b[0m\u001b[0;34m,\u001b[0m \u001b[0mconfig\u001b[0m\u001b[0;34m)\u001b[0m\u001b[0;34m\u001b[0m\u001b[0;34m\u001b[0m\u001b[0m\n",
            "\u001b[0;32m/usr/local/lib/python3.11/dist-packages/langgraph/utils/runnable.py\u001b[0m in \u001b[0;36minvoke\u001b[0;34m(self, input, config, **kwargs)\u001b[0m\n\u001b[1;32m    308\u001b[0m         \u001b[0;32melse\u001b[0m\u001b[0;34m:\u001b[0m\u001b[0;34m\u001b[0m\u001b[0;34m\u001b[0m\u001b[0m\n\u001b[1;32m    309\u001b[0m             \u001b[0mcontext\u001b[0m\u001b[0;34m.\u001b[0m\u001b[0mrun\u001b[0m\u001b[0;34m(\u001b[0m\u001b[0m_set_config_context\u001b[0m\u001b[0;34m,\u001b[0m \u001b[0mconfig\u001b[0m\u001b[0;34m)\u001b[0m\u001b[0;34m\u001b[0m\u001b[0;34m\u001b[0m\u001b[0m\n\u001b[0;32m--> 310\u001b[0;31m             \u001b[0mret\u001b[0m \u001b[0;34m=\u001b[0m \u001b[0mcontext\u001b[0m\u001b[0;34m.\u001b[0m\u001b[0mrun\u001b[0m\u001b[0;34m(\u001b[0m\u001b[0mself\u001b[0m\u001b[0;34m.\u001b[0m\u001b[0mfunc\u001b[0m\u001b[0;34m,\u001b[0m \u001b[0;34m*\u001b[0m\u001b[0margs\u001b[0m\u001b[0;34m,\u001b[0m \u001b[0;34m**\u001b[0m\u001b[0mkwargs\u001b[0m\u001b[0;34m)\u001b[0m\u001b[0;34m\u001b[0m\u001b[0;34m\u001b[0m\u001b[0m\n\u001b[0m\u001b[1;32m    311\u001b[0m         \u001b[0;32mif\u001b[0m \u001b[0misinstance\u001b[0m\u001b[0;34m(\u001b[0m\u001b[0mret\u001b[0m\u001b[0;34m,\u001b[0m \u001b[0mRunnable\u001b[0m\u001b[0;34m)\u001b[0m \u001b[0;32mand\u001b[0m \u001b[0mself\u001b[0m\u001b[0;34m.\u001b[0m\u001b[0mrecurse\u001b[0m\u001b[0;34m:\u001b[0m\u001b[0;34m\u001b[0m\u001b[0;34m\u001b[0m\u001b[0m\n\u001b[1;32m    312\u001b[0m             \u001b[0;32mreturn\u001b[0m \u001b[0mret\u001b[0m\u001b[0;34m.\u001b[0m\u001b[0minvoke\u001b[0m\u001b[0;34m(\u001b[0m\u001b[0minput\u001b[0m\u001b[0;34m,\u001b[0m \u001b[0mconfig\u001b[0m\u001b[0;34m)\u001b[0m\u001b[0;34m\u001b[0m\u001b[0;34m\u001b[0m\u001b[0m\n",
            "\u001b[0;32m<ipython-input-44-0ce82387f302>\u001b[0m in \u001b[0;36mfilter_messages\u001b[0;34m(state)\u001b[0m\n\u001b[1;32m      4\u001b[0m \u001b[0;32mdef\u001b[0m \u001b[0mfilter_messages\u001b[0m\u001b[0;34m(\u001b[0m\u001b[0mstate\u001b[0m\u001b[0;34m:\u001b[0m\u001b[0mMessagesState\u001b[0m\u001b[0;34m)\u001b[0m \u001b[0;34m->\u001b[0m\u001b[0mMessagesState\u001b[0m\u001b[0;34m:\u001b[0m\u001b[0;34m\u001b[0m\u001b[0;34m\u001b[0m\u001b[0m\n\u001b[1;32m      5\u001b[0m     \u001b[0;31m# Delete all but the 2 most recent messags\u001b[0m\u001b[0;34m\u001b[0m\u001b[0;34m\u001b[0m\u001b[0m\n\u001b[0;32m----> 6\u001b[0;31m     \u001b[0mdeleted_messages\u001b[0m\u001b[0;34m=\u001b[0m\u001b[0;34m[\u001b[0m\u001b[0mRemoveMessage\u001b[0m\u001b[0;34m(\u001b[0m\u001b[0mcontent\u001b[0m\u001b[0;34m=\u001b[0m\u001b[0mm\u001b[0m\u001b[0;34m.\u001b[0m\u001b[0mcontent\u001b[0m\u001b[0;34m)\u001b[0m \u001b[0;32mfor\u001b[0m \u001b[0mm\u001b[0m \u001b[0;32min\u001b[0m \u001b[0mstate\u001b[0m\u001b[0;34m[\u001b[0m\u001b[0;34m\"messages\"\u001b[0m\u001b[0;34m]\u001b[0m\u001b[0;34m[\u001b[0m\u001b[0;34m:\u001b[0m\u001b[0;34m-\u001b[0m\u001b[0;36m3\u001b[0m\u001b[0;34m]\u001b[0m\u001b[0;34m]\u001b[0m\u001b[0;34m\u001b[0m\u001b[0;34m\u001b[0m\u001b[0m\n\u001b[0m\u001b[1;32m      7\u001b[0m     \u001b[0mprint\u001b[0m\u001b[0;34m(\u001b[0m\u001b[0mdeleted_messages\u001b[0m\u001b[0;34m)\u001b[0m\u001b[0;34m\u001b[0m\u001b[0;34m\u001b[0m\u001b[0m\n\u001b[1;32m      8\u001b[0m     \u001b[0;32mreturn\u001b[0m \u001b[0;34m{\u001b[0m\u001b[0;34m\"messages\"\u001b[0m\u001b[0;34m:\u001b[0m \u001b[0mdeleted_messages\u001b[0m\u001b[0;34m}\u001b[0m\u001b[0;34m\u001b[0m\u001b[0;34m\u001b[0m\u001b[0m\n",
            "\u001b[0;32m<ipython-input-44-0ce82387f302>\u001b[0m in \u001b[0;36m<listcomp>\u001b[0;34m(.0)\u001b[0m\n\u001b[1;32m      4\u001b[0m \u001b[0;32mdef\u001b[0m \u001b[0mfilter_messages\u001b[0m\u001b[0;34m(\u001b[0m\u001b[0mstate\u001b[0m\u001b[0;34m:\u001b[0m\u001b[0mMessagesState\u001b[0m\u001b[0;34m)\u001b[0m \u001b[0;34m->\u001b[0m\u001b[0mMessagesState\u001b[0m\u001b[0;34m:\u001b[0m\u001b[0;34m\u001b[0m\u001b[0;34m\u001b[0m\u001b[0m\n\u001b[1;32m      5\u001b[0m     \u001b[0;31m# Delete all but the 2 most recent messags\u001b[0m\u001b[0;34m\u001b[0m\u001b[0;34m\u001b[0m\u001b[0m\n\u001b[0;32m----> 6\u001b[0;31m     \u001b[0mdeleted_messages\u001b[0m\u001b[0;34m=\u001b[0m\u001b[0;34m[\u001b[0m\u001b[0mRemoveMessage\u001b[0m\u001b[0;34m(\u001b[0m\u001b[0mcontent\u001b[0m\u001b[0;34m=\u001b[0m\u001b[0mm\u001b[0m\u001b[0;34m.\u001b[0m\u001b[0mcontent\u001b[0m\u001b[0;34m)\u001b[0m \u001b[0;32mfor\u001b[0m \u001b[0mm\u001b[0m \u001b[0;32min\u001b[0m \u001b[0mstate\u001b[0m\u001b[0;34m[\u001b[0m\u001b[0;34m\"messages\"\u001b[0m\u001b[0;34m]\u001b[0m\u001b[0;34m[\u001b[0m\u001b[0;34m:\u001b[0m\u001b[0;34m-\u001b[0m\u001b[0;36m3\u001b[0m\u001b[0;34m]\u001b[0m\u001b[0;34m]\u001b[0m\u001b[0;34m\u001b[0m\u001b[0;34m\u001b[0m\u001b[0m\n\u001b[0m\u001b[1;32m      7\u001b[0m     \u001b[0mprint\u001b[0m\u001b[0;34m(\u001b[0m\u001b[0mdeleted_messages\u001b[0m\u001b[0;34m)\u001b[0m\u001b[0;34m\u001b[0m\u001b[0;34m\u001b[0m\u001b[0m\n\u001b[1;32m      8\u001b[0m     \u001b[0;32mreturn\u001b[0m \u001b[0;34m{\u001b[0m\u001b[0;34m\"messages\"\u001b[0m\u001b[0;34m:\u001b[0m \u001b[0mdeleted_messages\u001b[0m\u001b[0;34m}\u001b[0m\u001b[0;34m\u001b[0m\u001b[0;34m\u001b[0m\u001b[0m\n",
            "\u001b[0;31mTypeError\u001b[0m: RemoveMessage.__init__() missing 1 required positional argument: 'id'"
          ]
        }
      ]
    },
    {
      "source": [
        "from langchain_core.messages import RemoveMessage\n",
        "\n",
        "def filter_messages(state: MessagesState) -> MessagesState:\n",
        "    \"\"\"Filters messages, keeping only the last 3.\"\"\"\n",
        "\n",
        "    # Extract all messages except the last 3\n",
        "    messages_to_keep = state[\"messages\"][-4:]\n",
        "    for m in messages_to_keep:\n",
        "        m.pretty_print()\n",
        "    print(\"-------------------------\")\n",
        "    # Create a new message list containing only the kept messages.\n",
        "    return {\"messages\": messages_to_keep}\n",
        "\n",
        "def chat_model_node(state: MessagesState) -> MessagesState:\n",
        "    \"\"\"Calls the language model.\"\"\"\n",
        "    # print(f\"MessagesState: {state['messages']}\")\n",
        "    response = {\"messages\": llm.invoke(state[\"messages\"])}\n",
        "    return response\n",
        "\n",
        "# build graph\n",
        "builder: StateGraph = StateGraph(MessagesState)\n",
        "\n",
        "builder.add_node(\"filter_messages\", filter_messages)\n",
        "builder.add_node(\"chat_model\", chat_model_node)\n",
        "\n",
        "builder.add_edge(START, \"filter_messages\")\n",
        "builder.add_edge(\"filter_messages\", \"chat_model\")\n",
        "builder.add_edge(\"chat_model\", END)\n",
        "\n",
        "graph: CompiledStateGraph = builder.compile()\n",
        "\n",
        "# View\n",
        "display(Image(graph.get_graph().draw_mermaid_png()))\n",
        "\n",
        "# Example usage\n",
        "messages_list = [\n",
        "    HumanMessage(f\"Hi\",name=\"Lance\"),\n",
        "    AIMessage(f\"How can I help you today?\", name=\"Assistant\"),\n",
        "    HumanMessage(f\"I'm looking for information about Agentic AI.One line answer.\", name=\"Lance\"),\n",
        "    AIMessage(f\"Agentic AI refers to artificial intelligence systems capable of independent goal-directed behavior.\", name=\"Assistant\"),\n",
        "    HumanMessage(f\"I'm looking for information about langgraph.short answer.\", name=\"Lance\"),\n",
        "    AIMessage(f\"LangChain's LangGraph is a knowledge base built from unstructured data, allowing for efficient querying and retrieval of information.  It uses vector databases to store and search embeddings of text.\", name=\"Assistant\"),\n",
        "    HumanMessage(f\"make it esay to undertant.short answer.\", name=\"Lance\"),\n",
        "    AIMessage(f\"LangGraph lets you ask questions of a large collection of text documents and get relevant answers back.\", name=\"Assistant\"),\n",
        "]\n",
        "\n",
        "response = graph.invoke({\"messages\": messages_list})\n",
        "for m in response['messages']:\n",
        "    m.pretty_print()"
      ],
      "cell_type": "code",
      "metadata": {
        "id": "Ga4r6nC-azdk",
        "outputId": "d56d9e6c-5681-40cf-d975-83f8ffbcbad6",
        "colab": {
          "base_uri": "https://localhost:8080/",
          "height": 1000
        }
      },
      "execution_count": 77,
      "outputs": [
        {
          "output_type": "display_data",
          "data": {
            "image/png": "[encoded data removed]",
            "text/plain": [
              "<IPython.core.display.Image object>"
            ]
          },
          "metadata": {}
        },
        {
          "output_type": "stream",
          "name": "stdout",
          "text": [
            "================================\u001b[1m Human Message \u001b[0m=================================\n",
            "Name: Lance\n",
            "\n",
            "I'm looking for information about langgraph.short answer.\n",
            "==================================\u001b[1m Ai Message \u001b[0m==================================\n",
            "Name: Assistant\n",
            "\n",
            "LangChain's LangGraph is a knowledge base built from unstructured data, allowing for efficient querying and retrieval of information.  It uses vector databases to store and search embeddings of text.\n",
            "================================\u001b[1m Human Message \u001b[0m=================================\n",
            "Name: Lance\n",
            "\n",
            "make it esay to undertant.short answer.\n",
            "==================================\u001b[1m Ai Message \u001b[0m==================================\n",
            "Name: Assistant\n",
            "\n",
            "LangGraph lets you ask questions of a large collection of text documents and get relevant answers back.\n",
            "-------------------------\n",
            "================================\u001b[1m Human Message \u001b[0m=================================\n",
            "Name: Lance\n",
            "\n",
            "Hi\n",
            "==================================\u001b[1m Ai Message \u001b[0m==================================\n",
            "Name: Assistant\n",
            "\n",
            "How can I help you today?\n",
            "================================\u001b[1m Human Message \u001b[0m=================================\n",
            "Name: Lance\n",
            "\n",
            "I'm looking for information about Agentic AI.One line answer.\n",
            "==================================\u001b[1m Ai Message \u001b[0m==================================\n",
            "Name: Assistant\n",
            "\n",
            "Agentic AI refers to artificial intelligence systems capable of independent goal-directed behavior.\n",
            "================================\u001b[1m Human Message \u001b[0m=================================\n",
            "Name: Lance\n",
            "\n",
            "I'm looking for information about langgraph.short answer.\n",
            "==================================\u001b[1m Ai Message \u001b[0m==================================\n",
            "Name: Assistant\n",
            "\n",
            "LangChain's LangGraph is a knowledge base built from unstructured data, allowing for efficient querying and retrieval of information.  It uses vector databases to store and search embeddings of text.\n",
            "================================\u001b[1m Human Message \u001b[0m=================================\n",
            "Name: Lance\n",
            "\n",
            "make it esay to undertant.short answer.\n",
            "==================================\u001b[1m Ai Message \u001b[0m==================================\n",
            "Name: Assistant\n",
            "\n",
            "LangGraph lets you ask questions of a large collection of text documents and get relevant answers back.\n",
            "==================================\u001b[1m Ai Message \u001b[0m==================================\n"
          ]
        }
      ]
    },
    {
      "cell_type": "code",
      "source": [
        "def chat_model_node(state: MessagesState) -> MessagesState:\n",
        "    \"\"\"Calls the language model.\"\"\"\n",
        "    messages_to_keep= state[\"messages\"][-4:]\n",
        "    for m in messages_to_keep:\n",
        "        m.pretty_print()\n",
        "    print(\"-------------------------\")\n",
        "    response = llm.invoke(messages_to_keep)\n",
        "    # messages_to_keep.append(AIMessage(content=response,name=\"Assistant\"))\n",
        "    messages_to_keep.append(response)\n",
        "    return {\"messages\":messages_to_keep}\n",
        "\n",
        "# build graph\n",
        "builder: StateGraph = StateGraph(MessagesState)\n",
        "\n",
        "builder.add_node(\"chat_model\", chat_model_node)\n",
        "\n",
        "\n",
        "builder.add_edge(START, \"chat_model\")\n",
        "builder.add_edge(\"chat_model\", END)\n",
        "\n",
        "graph: CompiledStateGraph = builder.compile()\n",
        "\n",
        "# View\n",
        "display(Image(graph.get_graph().draw_mermaid_png()))\n",
        "\n",
        "# Example usage\n",
        "messages_list = [\n",
        "    HumanMessage(f\"Hi\",name=\"Lance\"),\n",
        "    AIMessage(f\"How can I help you today?\", name=\"Assistant\"),\n",
        "    HumanMessage(f\"I'm looking for information about Agentic AI.One line answer.\", name=\"Lance\"),\n",
        "    AIMessage(f\"Agentic AI refers to artificial intelligence systems capable of independent goal-directed behavior.\", name=\"Assistant\"),\n",
        "    HumanMessage(f\"I'm looking for information about langgraph.short answer.\", name=\"Lance\"),\n",
        "    AIMessage(f\"LangChain's LangGraph is a knowledge base built from unstructured data, allowing for efficient querying and retrieval of information.  It uses vector databases to store and search embeddings of text.\", name=\"Assistant\"),\n",
        "    HumanMessage(f\"make it esay to undertant.short answer.\", name=\"Lance\"),\n",
        "    AIMessage(f\"LangGraph lets you ask questions of a large collection of text documents and get relevant answers back.\", name=\"Assistant\"),\n",
        "    HumanMessage(f\"what is the workflow in it.short answer.\", name=\"Lance\"),\n",
        "]\n",
        "\n",
        "response = graph.invoke({\"messages\": messages_list})\n",
        "for m in response['messages']:\n",
        "    m.pretty_print()"
      ],
      "metadata": {
        "id": "tgOjkURsln7j",
        "outputId": "ebdd2ab7-0025-4cfe-c22f-91a22e040f66",
        "colab": {
          "base_uri": "https://localhost:8080/",
          "height": 1000
        }
      },
      "execution_count": 83,
      "outputs": [
        {
          "output_type": "display_data",
          "data": {
            "image/png": "[encoded data removed]",
            "text/plain": [
              "<IPython.core.display.Image object>"
            ]
          },
          "metadata": {}
        },
        {
          "output_type": "stream",
          "name": "stdout",
          "text": [
            "==================================\u001b[1m Ai Message \u001b[0m==================================\n",
            "Name: Assistant\n",
            "\n",
            "LangChain's LangGraph is a knowledge base built from unstructured data, allowing for efficient querying and retrieval of information.  It uses vector databases to store and search embeddings of text.\n",
            "================================\u001b[1m Human Message \u001b[0m=================================\n",
            "Name: Lance\n",
            "\n",
            "make it esay to undertant.short answer.\n",
            "==================================\u001b[1m Ai Message \u001b[0m==================================\n",
            "Name: Assistant\n",
            "\n",
            "LangGraph lets you ask questions of a large collection of text documents and get relevant answers back.\n",
            "================================\u001b[1m Human Message \u001b[0m=================================\n",
            "Name: Lance\n",
            "\n",
            "what is the workflow in it.short answer.\n",
            "-------------------------\n",
            "================================\u001b[1m Human Message \u001b[0m=================================\n",
            "Name: Lance\n",
            "\n",
            "Hi\n",
            "==================================\u001b[1m Ai Message \u001b[0m==================================\n",
            "Name: Assistant\n",
            "\n",
            "How can I help you today?\n",
            "================================\u001b[1m Human Message \u001b[0m=================================\n",
            "Name: Lance\n",
            "\n",
            "I'm looking for information about Agentic AI.One line answer.\n",
            "==================================\u001b[1m Ai Message \u001b[0m==================================\n",
            "Name: Assistant\n",
            "\n",
            "Agentic AI refers to artificial intelligence systems capable of independent goal-directed behavior.\n",
            "================================\u001b[1m Human Message \u001b[0m=================================\n",
            "Name: Lance\n",
            "\n",
            "I'm looking for information about langgraph.short answer.\n",
            "==================================\u001b[1m Ai Message \u001b[0m==================================\n",
            "Name: Assistant\n",
            "\n",
            "LangChain's LangGraph is a knowledge base built from unstructured data, allowing for efficient querying and retrieval of information.  It uses vector databases to store and search embeddings of text.\n",
            "================================\u001b[1m Human Message \u001b[0m=================================\n",
            "Name: Lance\n",
            "\n",
            "make it esay to undertant.short answer.\n",
            "==================================\u001b[1m Ai Message \u001b[0m==================================\n",
            "Name: Assistant\n",
            "\n",
            "LangGraph lets you ask questions of a large collection of text documents and get relevant answers back.\n",
            "================================\u001b[1m Human Message \u001b[0m=================================\n",
            "Name: Lance\n",
            "\n",
            "what is the workflow in it.short answer.\n",
            "==================================\u001b[1m Ai Message \u001b[0m==================================\n",
            "\n",
            "1. **Upload documents:**  Feed LangGraph your text data.\n",
            "2. **Create embeddings:**  The system converts text into numerical representations (embeddings).\n",
            "3. **Store embeddings:** Embeddings are stored in a vector database.\n",
            "4. **Ask questions:**  You query the system with a question.\n",
            "5. **Retrieve & answer:**  The system finds the closest embeddings, retrieves the relevant text, and provides an answer.\n"
          ]
        }
      ]
    },
    {
      "cell_type": "markdown",
      "source": [
        "#Trim Messages"
      ],
      "metadata": {
        "id": "wFscUKS55Slh"
      }
    },
    {
      "cell_type": "code",
      "source": [],
      "metadata": {
        "id": "FI1hjt5d52s3"
      },
      "execution_count": null,
      "outputs": []
    },
    {
      "cell_type": "code",
      "source": [
        "from langchain_core.messages import trim_messages\n",
        "\n",
        "def chat_model_node(state:MessagesState) ->MessagesState:\n",
        "    messages=trim_messages(state[\"messages\"],\n",
        "                           max_tokens=100,\n",
        "                           strategy=\"last\",\n",
        "                           token_counter=llm,\n",
        "                           allow_partial=False)\n",
        "    for m in messages:\n",
        "        m.pretty_print()\n",
        "    print(\"-------------------------\")\n",
        "    response={\"messages\":llm.invoke(messages)}\n",
        "    return response\n",
        "\n",
        "# messages = [\n",
        "#     HumanMessage(f\"Hi\",name=\"Lance\"),\n",
        "#     AIMessage(f\"How can I help you today?\", name=\"Assistant\"),\n",
        "#     HumanMessage(f\"I'm looking for information about Agentic AI.One line answer.\", name=\"Lance\")\n",
        "#     ]\n",
        "\n",
        "chat_model_node({\"messages\":messages_list})"
      ],
      "metadata": {
        "id": "Cz_LutAJw113",
        "outputId": "1ad50292-91a5-4902-d093-19b3d1f014a4",
        "colab": {
          "base_uri": "https://localhost:8080/"
        }
      },
      "execution_count": 90,
      "outputs": [
        {
          "output_type": "stream",
          "name": "stdout",
          "text": [
            "================================\u001b[1m Human Message \u001b[0m=================================\n",
            "Name: Lance\n",
            "\n",
            "I'm looking for information about langgraph.short answer.\n",
            "==================================\u001b[1m Ai Message \u001b[0m==================================\n",
            "Name: Assistant\n",
            "\n",
            "LangChain's LangGraph is a knowledge base built from unstructured data, allowing for efficient querying and retrieval of information.  It uses vector databases to store and search embeddings of text.\n",
            "================================\u001b[1m Human Message \u001b[0m=================================\n",
            "Name: Lance\n",
            "\n",
            "make it esay to undertant.short answer.\n",
            "==================================\u001b[1m Ai Message \u001b[0m==================================\n",
            "Name: Assistant\n",
            "\n",
            "LangGraph lets you ask questions of a large collection of text documents and get relevant answers back.\n",
            "================================\u001b[1m Human Message \u001b[0m=================================\n",
            "Name: Lance\n",
            "\n",
            "what is the workflow in it.short answer.\n",
            "-------------------------\n"
          ]
        },
        {
          "output_type": "execute_result",
          "data": {
            "text/plain": [
              "{'messages': AIMessage(content='Upload documents, LangGraph creates embeddings, you ask questions, it searches for the best matching embeddings, and provides answers based on those documents.', additional_kwargs={}, response_metadata={'prompt_feedback': {'block_reason': 0, 'safety_ratings': []}, 'finish_reason': 'STOP', 'safety_ratings': []}, id='run-9b2cdecb-8ab0-490b-9d6c-68b49842f748-0', usage_metadata={'input_tokens': 90, 'output_tokens': 29, 'total_tokens': 119, 'input_token_details': {'cache_read': 0}})}"
            ]
          },
          "metadata": {},
          "execution_count": 90
        }
      ]
    },
    {
      "cell_type": "code",
      "source": [],
      "metadata": {
        "id": "1K6NVFNm6NgE"
      },
      "execution_count": null,
      "outputs": []
    }
  ]
}