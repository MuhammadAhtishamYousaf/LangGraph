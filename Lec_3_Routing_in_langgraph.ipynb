{
  "nbformat": 4,
  "nbformat_minor": 0,
  "metadata": {
    "colab": {
      "provenance": [],
      "cell_execution_strategy": "setup",
      "authorship_tag": "ABX9TyMEw0uBgk7+9WGjDKOw+fzm",
      "include_colab_link": true
    },
    "kernelspec": {
      "name": "python3",
      "display_name": "Python 3"
    },
    "language_info": {
      "name": "python"
    }
  },
  "cells": [
    {
      "cell_type": "markdown",
      "metadata": {
        "id": "view-in-github",
        "colab_type": "text"
      },
      "source": [
        "<a href=\"https://colab.research.google.com/github/MuhammadAhtishamYousaf/LangGraph/blob/main/Lec_3_Routing_in_langgraph.ipynb\" target=\"_parent\"><img src=\"https://colab.research.google.com/assets/colab-badge.svg\" alt=\"Open In Colab\"/></a>"
      ]
    },
    {
      "cell_type": "code",
      "execution_count": null,
      "metadata": {
        "colab": {
          "base_uri": "https://localhost:8080/"
        },
        "id": "jxrYcFRz0cf7",
        "outputId": "08cfa758-4c5d-494c-e0f7-aa812f22fbad"
      },
      "outputs": [
        {
          "output_type": "stream",
          "name": "stdout",
          "text": [
            "\u001b[?25l   \u001b[90m━━━━━━━━━━━━━━━━━━━━━━━━━━━━━━━━━━━━━━━━\u001b[0m \u001b[32m0.0/41.7 kB\u001b[0m \u001b[31m?\u001b[0m eta \u001b[36m-:--:--\u001b[0m\r\u001b[2K   \u001b[90m━━━━━━━━━━━━━━━━━━━━━━━━━━━━━━━━━━━━━━━━\u001b[0m \u001b[32m41.7/41.7 kB\u001b[0m \u001b[31m1.5 MB/s\u001b[0m eta \u001b[36m0:00:00\u001b[0m\n",
            "\u001b[?25h\u001b[?25l   \u001b[90m━━━━━━━━━━━━━━━━━━━━━━━━━━━━━━━━━━━━━━━━\u001b[0m \u001b[32m0.0/413.0 kB\u001b[0m \u001b[31m?\u001b[0m eta \u001b[36m-:--:--\u001b[0m\r\u001b[2K   \u001b[91m━━━━━━━━━━━━━━━━━━━━━━━━━━━━━━━━━━━━━━━\u001b[0m\u001b[91m╸\u001b[0m \u001b[32m409.6/413.0 kB\u001b[0m \u001b[31m18.2 MB/s\u001b[0m eta \u001b[36m0:00:01\u001b[0m\r\u001b[2K   \u001b[90m━━━━━━━━━━━━━━━━━━━━━━━━━━━━━━━━━━━━━━━━\u001b[0m \u001b[32m413.0/413.0 kB\u001b[0m \u001b[31m10.5 MB/s\u001b[0m eta \u001b[36m0:00:00\u001b[0m\n",
            "\u001b[2K   \u001b[90m━━━━━━━━━━━━━━━━━━━━━━━━━━━━━━━━━━━━━━━━\u001b[0m \u001b[32m150.0/150.0 kB\u001b[0m \u001b[31m9.9 MB/s\u001b[0m eta \u001b[36m0:00:00\u001b[0m\n",
            "\u001b[2K   \u001b[90m━━━━━━━━━━━━━━━━━━━━━━━━━━━━━━━━━━━━━━━━\u001b[0m \u001b[32m44.7/44.7 kB\u001b[0m \u001b[31m2.5 MB/s\u001b[0m eta \u001b[36m0:00:00\u001b[0m\n",
            "\u001b[?25h"
          ]
        }
      ],
      "source": [
        "!pip install --quiet -U langchain_google_genai langchain_core langgraph"
      ]
    },
    {
      "cell_type": "code",
      "source": [
        "from google.colab import userdata\n",
        "GEMINI_API_KEY=userdata.get('GEMINI_API_KEY')"
      ],
      "metadata": {
        "id": "-mLa3LLM1G7n"
      },
      "execution_count": null,
      "outputs": []
    },
    {
      "cell_type": "code",
      "source": [
        "from langchain_google_genai import ChatGoogleGenerativeAI as genai\n",
        "\n",
        "def multiply_values(a: int, b: int) -> int:\n",
        "    \"\"\"Multiply two values\n",
        "    Args:\n",
        "    a: first int\n",
        "    b: second int\n",
        "    Returns:\n",
        "    a * b\n",
        "    \"\"\"\n",
        "    return a * b\n"
      ],
      "metadata": {
        "id": "z_1jOPpb1Oam"
      },
      "execution_count": null,
      "outputs": []
    },
    {
      "cell_type": "code",
      "source": [
        "llm=genai(model='gemini-1.5-flash',api_key=GEMINI_API_KEY)\n"
      ],
      "metadata": {
        "id": "MUbiXK8A1xA8"
      },
      "execution_count": null,
      "outputs": []
    },
    {
      "cell_type": "code",
      "source": [
        "llm_with_tool_bind=llm.bind_tools([multiply_values])"
      ],
      "metadata": {
        "id": "M_MHqWqs1-IL"
      },
      "execution_count": null,
      "outputs": []
    },
    {
      "cell_type": "code",
      "source": [
        "from IPython.display import Image, display\n",
        "from langgraph.graph import StateGraph, START,END\n",
        "from langgraph.graph import MessagesState # Make sure MessagesState is imported correctly\n",
        "from langgraph.prebuilt import ToolNode\n",
        "from langgraph.prebuilt import tools_condition\n",
        "from langgraph.graph.state import CompiledStateGraph\n",
        "\n",
        "#node function\n",
        "\n",
        "def tool_calling_with_llm(state: MessagesState): # Specify the type of the argument\n",
        "    # Access the messages using state['messages']\n",
        "    return {\"messages\":llm_with_tool_bind.invoke(state['messages'])}\n",
        "\n",
        "#build graph\n",
        "builder:StateGraph=StateGraph(MessagesState)\n",
        "builder.add_node(\"tool_calling_with_llm\",tool_calling_with_llm)\n",
        "builder.add_node(\"tools\",ToolNode([multiply_values]))\n",
        "\n",
        "#Edges\n",
        "builder.add_edge(START,\"tool_calling_with_llm\")\n",
        "builder.add_conditional_edges(\n",
        "    \"tool_calling_with_llm\",\n",
        "    #if the llm response is a tool call -> tools condition will be towards tools\n",
        "    #if the llm response is natural language, tools condition will be towards end\n",
        "    tools_condition\n",
        ")\n",
        "\n",
        "builder.add_edge(\"tools\",END)\n",
        "\n",
        "graph: CompiledStateGraph=builder.compile()\n",
        "\n",
        "# display\n",
        "display(Image(graph.get_graph().draw_mermaid_png()))"
      ],
      "metadata": {
        "colab": {
          "base_uri": "https://localhost:8080/",
          "height": 350
        },
        "id": "cZmksohQ2KNM",
        "outputId": "f5315039-d0e6-45fe-e78f-fb31516dad19"
      },
      "execution_count": null,
      "outputs": [
        {
          "output_type": "display_data",
          "data": {
            "image/png": "[encoded data removed]",
            "text/plain": [
              "<IPython.core.display.Image object>"
            ]
          },
          "metadata": {}
        }
      ]
    },
    {
      "cell_type": "code",
      "source": [
        "from langchain_core.messages import HumanMessage, SystemMessage\n",
        "messages = [SystemMessage(content=\"You are a helpfull assistant.\") , HumanMessage(content=\"Multiply 5 with 5\")]\n",
        "messages = graph.invoke({\"messages\": messages})\n",
        "print(messages)\n",
        "for m in messages['messages']:\n",
        "    m.pretty_print()"
      ],
      "metadata": {
        "colab": {
          "base_uri": "https://localhost:8080/"
        },
        "id": "ibApN6iHUuDt",
        "outputId": "edfcb6c0-9ce0-4e8a-e9a1-2bbca0e387f6"
      },
      "execution_count": null,
      "outputs": [
        {
          "output_type": "stream",
          "name": "stdout",
          "text": [
            "{'messages': [SystemMessage(content='You are a helpfull assistant.', additional_kwargs={}, response_metadata={}, id='4c23205a-b1c8-4d0b-ade5-ebcab570da3c'), HumanMessage(content='Multiply 5 with 5', additional_kwargs={}, response_metadata={}, id='37bba590-54a7-441a-a391-d20edf633c62'), AIMessage(content='', additional_kwargs={'function_call': {'name': 'multiply_values', 'arguments': '{\"a\": 5.0, \"b\": 5.0}'}}, response_metadata={'prompt_feedback': {'block_reason': 0, 'safety_ratings': []}, 'finish_reason': 'STOP', 'safety_ratings': []}, id='run-802a6e1c-26f5-4ef8-a183-795df9437297-0', tool_calls=[{'name': 'multiply_values', 'args': {'a': 5.0, 'b': 5.0}, 'id': 'd457766c-9dd1-4e30-8ef9-2367a7c325a1', 'type': 'tool_call'}], usage_metadata={'input_tokens': 43, 'output_tokens': 5, 'total_tokens': 48, 'input_token_details': {'cache_read': 0}}), ToolMessage(content='25', name='multiply_values', id='0014a177-635e-4a32-8575-1eb10d8972c4', tool_call_id='d457766c-9dd1-4e30-8ef9-2367a7c325a1')]}\n",
            "================================\u001b[1m System Message \u001b[0m================================\n",
            "\n",
            "You are a helpfull assistant.\n",
            "================================\u001b[1m Human Message \u001b[0m=================================\n",
            "\n",
            "Multiply 5 with 5\n",
            "==================================\u001b[1m Ai Message \u001b[0m==================================\n",
            "Tool Calls:\n",
            "  multiply_values (d457766c-9dd1-4e30-8ef9-2367a7c325a1)\n",
            " Call ID: d457766c-9dd1-4e30-8ef9-2367a7c325a1\n",
            "  Args:\n",
            "    a: 5.0\n",
            "    b: 5.0\n",
            "=================================\u001b[1m Tool Message \u001b[0m=================================\n",
            "Name: multiply_values\n",
            "\n",
            "25\n"
          ]
        }
      ]
    },
    {
      "cell_type": "code",
      "source": [],
      "metadata": {
        "id": "ID2qfV_Hia9v"
      },
      "execution_count": null,
      "outputs": []
    }
  ]
}